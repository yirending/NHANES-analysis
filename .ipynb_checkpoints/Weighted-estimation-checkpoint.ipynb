{
 "cells": [
  {
   "cell_type": "markdown",
   "metadata": {},
   "source": [
    "# Estimation of weighted data\n",
    "\n",
    "[Github Repository](https://github.com/yirending/NHANES-analysis)\n",
    "\n",
    "In this article, I will show you how to obtain statistically accurate point and interval estimates from weighted survey data.  As you have probably read from all major national survey documentations that directly analyzing a complex national survey without taking into consideration the sample weights will lead to inaccurate results. \n",
    "\n",
    "Here we will look at the National Health and Nutrition Examination Survey [(NHANES)](https://wwwn.cdc.gov/nchs/nhanes/Default.aspx) dataset, and try to obtain point and interval estimates of cholesterol levels based on race, ethnicity, and socioeconomic status. "
   ]
  },
  {
   "cell_type": "markdown",
   "metadata": {},
   "source": [
    "## 1: Collecting NHANES data from 2003-2016"
   ]
  },
  {
   "cell_type": "markdown",
   "metadata": {},
   "source": [
    "### 1.1 Basic Information\n",
    "\n",
    "The datasets used for the analysis are provided in the Github repository from above.  The original data is in `.XPT` format, which is used for SAS.  Using a Python module [xport](https://pypi.org/project/xport/), I converted them into `.csv` format using\n",
    "```\n",
    "python -m xport example.xpt > example.csv\n",
    "```\n",
    "\n",
    "The following contains basic information about the variables:\n",
    "\n",
    "#### File names:\n",
    "\n",
    "DEMO (Demographics)<br/>\n",
    "HDL (HDL levels)<br/>\n",
    "TRIG (Triglycerides and LDL levels)<br/>\n",
    "TCHOL (Total cholesterol levels)\n",
    "\n",
    "#### Features:\n",
    "\n",
    "SEQN - Respondent sequence number<br/>\n",
    "LBDHDD - Direct HDL-Cholesterol (mg/dL)<br/>\n",
    "LBXHDD - Direct HDL-Cholesterol (mg/dL) (2003 only)<br/>\n",
    "LBDLDL - LDL-cholesterol (mg/dL)<br/>\n",
    "LBXTR - Triglyceride (mg/dL)<br/>\n",
    "LBXSTR - Triglyceride (mg/dL) (2015 only)<br/>\n",
    "LBXTC - Total cholesterol (mg/dL)<br/>\n",
    "RIAGENDR - Gender<br/>\n",
    "RIDAGEYR - Age at Screening Adjudicated - Recode<br/>\n",
    "RIDRETH1 - Race/Ethnicity - Recode<br/>\n",
    "\n",
    "    1 - Mexican American\n",
    "    2 - Other Hispanic\n",
    "    3 - Non-Hispanic White\n",
    "    4 - Non-Hispanic Black\n",
    "    5 - Other Race - Including Multi-Racial\n",
    "    \n",
    "INDFMIN2 - Annual Family Income<br/>\n",
    "\n",
    "    1 - 0 to 4,999\n",
    "    2 - 5,000 to 9,999\n",
    "    3 - 10,000 to 14,999\n",
    "    4 - 15,000 to 19,999\t\n",
    "    5 - 20,000 to 24,999\t\n",
    "    6 - 25,000 to 34,999\n",
    "    7 - 35,000 to 44,999\t\n",
    "    8 - 45,000 to 54,999\t\n",
    "    9 - 55,000 to 64,999\t\n",
    "    10 - 65,000 to 74,999\t\n",
    "    11 - 75,000 and Over\t\n",
    "    12 - Over 20,000\n",
    "    13 - Under 20,000\t\n",
    "    14 - 75,000 to 99,999\t\n",
    "    15 - 100,000 and Over\t\n",
    "    77 - Refused\t\n",
    "    99 - Don't know\n",
    "\n",
    "INDFMINC - Annual Family Income (2003 2005 Only)<br/>\n",
    "\n",
    "    1 - 0 to 4,999\n",
    "    2 - 5,000 to 9,999\n",
    "    3 - 10,000 to 14,999\n",
    "    4 - 15,000 to 19,999\t\n",
    "    5 - 20,000 to 24,999\t\n",
    "    6 - 25,000 to 34,999\n",
    "    7 - 35,000 to 44,999\t\n",
    "    8 - 45,000 to 54,999\t\n",
    "    9 - 55,000 to 64,999\t\n",
    "    10 - 65,000 to 74,999\t\n",
    "    11 - 75,000 and Over\t\n",
    "    12 - Over 20,000\n",
    "    13 - Under 20,000\t\n",
    "    77 - Refused\t\n",
    "    99 - Don't know\n",
    "\n",
    "DMDEDUC3 - Education Level - Children/Youth 6-19<br/>\n",
    "\n",
    "    13 - High School Graduate\t\n",
    "    14 - GED or Equivalent\t\n",
    "    15 - More than high school\n",
    "    \n",
    "DMDEDUC2 - Education Level - Adults 20+\n",
    "\n",
    "    3 - High School Grad/GED or Equivalent\n",
    "    4 - Some College or AA degree\n",
    "    5 - College Graduate or above"
   ]
  },
  {
   "cell_type": "markdown",
   "metadata": {},
   "source": [
    "### 1.2 Data Collection\n",
    "\n",
    "We read the data using Pandas first."
   ]
  },
  {
   "cell_type": "code",
   "execution_count": 1,
   "metadata": {},
   "outputs": [],
   "source": [
    "import numpy as np\n",
    "import pandas as pd\n",
    "import matplotlib.pyplot as plt\n",
    "import seaborn as sns\n",
    "%matplotlib inline"
   ]
  },
  {
   "cell_type": "code",
   "execution_count": 2,
   "metadata": {},
   "outputs": [],
   "source": [
    "# Demographics\n",
    "\n",
    "demo03 = pd.read_csv('DEMO_C_03.csv')\n",
    "demo05 = pd.read_csv('DEMO_D_05.csv')\n",
    "demo07 = pd.read_csv('DEMO_E_07.csv')\n",
    "demo09 = pd.read_csv('DEMO_F_09.csv')\n",
    "demo11 = pd.read_csv('DEMO_G_11.csv')\n",
    "demo13 = pd.read_csv('DEMO_H_13.csv')\n",
    "demo15 = pd.read_csv('DEMO_I_15.csv')\n",
    "\n",
    "# HDL\n",
    "\n",
    "hdl03 = pd.read_csv('L13_C.csv') # also contains total cholesterol in 2003\n",
    "hdl05 = pd.read_csv('HDL_D_05.csv')\n",
    "hdl07 = pd.read_csv('HDL_E_07.csv')\n",
    "hdl09 = pd.read_csv('HDL_F_09.csv')\n",
    "hdl11 = pd.read_csv('HDL_G_11.csv')\n",
    "hdl13 = pd.read_csv('HDL_H_13.csv')\n",
    "hdl15 = pd.read_csv('HDL_I_15.csv')\n",
    "\n",
    "# Triglyceride\n",
    "\n",
    "trig03 = pd.read_csv('L13AM_C.csv')\n",
    "trig05 = pd.read_csv('TRIGLY_D_05.csv')\n",
    "trig07 = pd.read_csv('TRIGLY_E_07.csv')\n",
    "trig09 = pd.read_csv('TRIGLY_F_09.csv')\n",
    "trig11 = pd.read_csv('TRIGLY_G_11.csv')\n",
    "trig13 = pd.read_csv('TRIGLY_H_13.csv')\n",
    "trig15 = pd.read_csv('BIOPRO_I.csv') # triglyceride in 2015\n",
    "\n",
    "# Total Cholesterol (2003 data is included in hdl03)\n",
    "\n",
    "tchol05 = pd.read_csv('TCHOL_D_05.csv')\n",
    "tchol07 = pd.read_csv('TCHOL_E_07.csv')\n",
    "tchol09 = pd.read_csv('TCHOL_F_09.csv')\n",
    "tchol11 = pd.read_csv('TCHOL_G_11.csv')\n",
    "tchol13 = pd.read_csv('TCHOL_H_13.csv')\n",
    "tchol15 = pd.read_csv('TCHOL_I_15.csv')"
   ]
  },
  {
   "cell_type": "markdown",
   "metadata": {},
   "source": [
    "Since the NHANES 2015 dataset does not have the adjusted weights for Triglyceride levels, we use MEC weights from the DEMO_I_15 file, adjusted by a factor 4/5. (Reason will be shown below.)  See [survey guidelines](https://wwwn.cdc.gov/Nchs/Nhanes/2015-2016/BIOPRO_I.htm)."
   ]
  },
  {
   "cell_type": "code",
   "execution_count": 3,
   "metadata": {},
   "outputs": [],
   "source": [
    "trig15['WTSAF2YR'] = demo15['WTMEC2YR']*4/5"
   ]
  },
  {
   "cell_type": "markdown",
   "metadata": {},
   "source": [
    "Next, we combine data files from 2003-2016 based on categories."
   ]
  },
  {
   "cell_type": "code",
   "execution_count": 4,
   "metadata": {
    "scrolled": false
   },
   "outputs": [],
   "source": [
    "# Demographics\n",
    "\n",
    "demo = pd.concat([demo03, demo05, demo07, demo09, demo11, demo13, demo15])\n",
    "demo = demo[['SEQN','RIAGENDR', 'RIDAGEYR', 'RIDRETH1','DMDEDUC3', 'DMDEDUC2',\n",
    "             'INDFMINC','INDFMIN2','WTINT2YR','WTMEC2YR']]\n",
    "demo.columns = ['Index', 'Gender', 'Age', 'Ethnicity', 'Education 6-19', 'Education 20+', \n",
    "              'Income 2003-05', 'Income 2007+', 'Weight Int', 'Weight MEC']\n",
    "demo.set_index('Index', inplace = True)\n",
    "\n",
    "# Combine columns\n",
    "\n",
    "demo['Education 6-19'] = demo['Education 6-19'].fillna(0.0)\n",
    "demo['Education 20+'] = demo['Education 20+'].fillna(0.0)\n",
    "demo['Income 2003-05'] = demo['Income 2003-05'].fillna(0.0)\n",
    "demo['Income 2007+'] = demo['Income 2007+'].fillna(0.0)\n",
    "demo['Education'] = demo['Education 6-19'] + demo['Education 20+']\n",
    "demo['Income'] = demo['Income 2003-05'] + demo['Income 2007+']\n",
    "demo.drop(['Education 6-19', 'Education 20+', 'Income 2003-05', 'Income 2007+'], axis=1, inplace = True)"
   ]
  },
  {
   "cell_type": "code",
   "execution_count": 5,
   "metadata": {},
   "outputs": [],
   "source": [
    "# HDL\n",
    "\n",
    "hdl = pd.concat([hdl03, hdl05, hdl07, hdl09, hdl11, hdl13, hdl15])\n",
    "hdl = hdl[['SEQN', 'LBDHDD', 'LBXHDD']]\n",
    "hdl.columns = ['Index', 'HDL1', 'HDL2']\n",
    "hdl.set_index('Index', inplace = True)\n",
    "\n",
    "# Combine columns\n",
    "\n",
    "hdl['HDL1'] = hdl['HDL1'].fillna(0.0)\n",
    "hdl['HDL2'] = hdl['HDL2'].fillna(0.0)\n",
    "hdl['HDL'] = hdl['HDL1'] + hdl['HDL2']\n",
    "hdl.drop(['HDL1', 'HDL2'], axis=1, inplace=True)"
   ]
  },
  {
   "cell_type": "code",
   "execution_count": 6,
   "metadata": {
    "scrolled": true
   },
   "outputs": [],
   "source": [
    "# Tryglyceride\n",
    "\n",
    "trig = pd.concat([trig03, trig05, trig07, trig09, trig11, trig13, trig15])\n",
    "trig = trig[['SEQN', 'WTSAF2YR', 'LBXTR', 'LBXSTR']]\n",
    "trig.columns = ['Index', 'Weight Fast', 'Triglyceride', 'Triglyceride2']\n",
    "trig.set_index('Index', inplace = True)\n",
    "\n",
    "# Combine columns\n",
    "\n",
    "trig['Triglyceride'] = trig['Triglyceride'].fillna(0.0)\n",
    "trig['Triglyceride2'] = trig['Triglyceride2'].fillna(0.0)\n",
    "trig['Triglyceride'] = trig['Triglyceride'] + trig['Triglyceride2']\n",
    "trig.drop(['Triglyceride2'], axis=1, inplace=True)"
   ]
  },
  {
   "cell_type": "code",
   "execution_count": 7,
   "metadata": {},
   "outputs": [],
   "source": [
    "# Total Cholesterol\n",
    "\n",
    "tchol = pd.concat([hdl03, tchol05, tchol07, tchol09, tchol11, tchol13, tchol15])\n",
    "tchol = tchol[['SEQN', 'LBXTC']]\n",
    "tchol.columns = ['Index', 'Total Chol']\n",
    "tchol.set_index('Index', inplace = True)"
   ]
  },
  {
   "cell_type": "code",
   "execution_count": 8,
   "metadata": {
    "scrolled": true
   },
   "outputs": [
    {
     "data": {
      "text/html": [
       "<div>\n",
       "<style scoped>\n",
       "    .dataframe tbody tr th:only-of-type {\n",
       "        vertical-align: middle;\n",
       "    }\n",
       "\n",
       "    .dataframe tbody tr th {\n",
       "        vertical-align: top;\n",
       "    }\n",
       "\n",
       "    .dataframe thead th {\n",
       "        text-align: right;\n",
       "    }\n",
       "</style>\n",
       "<table border=\"1\" class=\"dataframe\">\n",
       "  <thead>\n",
       "    <tr style=\"text-align: right;\">\n",
       "      <th></th>\n",
       "      <th>Age</th>\n",
       "      <th>Gender</th>\n",
       "      <th>Ethnicity</th>\n",
       "      <th>Education</th>\n",
       "      <th>Income</th>\n",
       "      <th>HDL</th>\n",
       "      <th>Triglyceride</th>\n",
       "      <th>Total Chol</th>\n",
       "      <th>Weight Int</th>\n",
       "      <th>Weight MEC</th>\n",
       "      <th>Weight Fast</th>\n",
       "    </tr>\n",
       "    <tr>\n",
       "      <th>Index</th>\n",
       "      <th></th>\n",
       "      <th></th>\n",
       "      <th></th>\n",
       "      <th></th>\n",
       "      <th></th>\n",
       "      <th></th>\n",
       "      <th></th>\n",
       "      <th></th>\n",
       "      <th></th>\n",
       "      <th></th>\n",
       "      <th></th>\n",
       "    </tr>\n",
       "  </thead>\n",
       "  <tbody>\n",
       "    <tr>\n",
       "      <th>21005.0</th>\n",
       "      <td>19.0</td>\n",
       "      <td>1.0</td>\n",
       "      <td>4.0</td>\n",
       "      <td>11.0</td>\n",
       "      <td>6.0</td>\n",
       "      <td>44.0</td>\n",
       "      <td>102.0</td>\n",
       "      <td>189.0</td>\n",
       "      <td>5512.320949</td>\n",
       "      <td>5824.782465</td>\n",
       "      <td>14084.2</td>\n",
       "    </tr>\n",
       "    <tr>\n",
       "      <th>21006.0</th>\n",
       "      <td>16.0</td>\n",
       "      <td>2.0</td>\n",
       "      <td>4.0</td>\n",
       "      <td>11.0</td>\n",
       "      <td>6.0</td>\n",
       "      <td>53.0</td>\n",
       "      <td>71.0</td>\n",
       "      <td>159.0</td>\n",
       "      <td>5422.140453</td>\n",
       "      <td>5564.039715</td>\n",
       "      <td>13081.0</td>\n",
       "    </tr>\n",
       "    <tr>\n",
       "      <th>21007.0</th>\n",
       "      <td>14.0</td>\n",
       "      <td>2.0</td>\n",
       "      <td>3.0</td>\n",
       "      <td>8.0</td>\n",
       "      <td>6.0</td>\n",
       "      <td>69.0</td>\n",
       "      <td>NaN</td>\n",
       "      <td>212.0</td>\n",
       "      <td>39764.177412</td>\n",
       "      <td>40591.066325</td>\n",
       "      <td>NaN</td>\n",
       "    </tr>\n",
       "    <tr>\n",
       "      <th>21008.0</th>\n",
       "      <td>17.0</td>\n",
       "      <td>1.0</td>\n",
       "      <td>4.0</td>\n",
       "      <td>10.0</td>\n",
       "      <td>7.0</td>\n",
       "      <td>66.0</td>\n",
       "      <td>NaN</td>\n",
       "      <td>175.0</td>\n",
       "      <td>5599.499351</td>\n",
       "      <td>5696.750596</td>\n",
       "      <td>NaN</td>\n",
       "    </tr>\n",
       "    <tr>\n",
       "      <th>21009.0</th>\n",
       "      <td>55.0</td>\n",
       "      <td>1.0</td>\n",
       "      <td>3.0</td>\n",
       "      <td>3.0</td>\n",
       "      <td>8.0</td>\n",
       "      <td>37.0</td>\n",
       "      <td>NaN</td>\n",
       "      <td>254.0</td>\n",
       "      <td>97593.678977</td>\n",
       "      <td>97731.727244</td>\n",
       "      <td>NaN</td>\n",
       "    </tr>\n",
       "  </tbody>\n",
       "</table>\n",
       "</div>"
      ],
      "text/plain": [
       "          Age  Gender  Ethnicity  Education  Income   HDL  Triglyceride  \\\n",
       "Index                                                                     \n",
       "21005.0  19.0     1.0        4.0       11.0     6.0  44.0         102.0   \n",
       "21006.0  16.0     2.0        4.0       11.0     6.0  53.0          71.0   \n",
       "21007.0  14.0     2.0        3.0        8.0     6.0  69.0           NaN   \n",
       "21008.0  17.0     1.0        4.0       10.0     7.0  66.0           NaN   \n",
       "21009.0  55.0     1.0        3.0        3.0     8.0  37.0           NaN   \n",
       "\n",
       "         Total Chol    Weight Int    Weight MEC  Weight Fast  \n",
       "Index                                                         \n",
       "21005.0       189.0   5512.320949   5824.782465      14084.2  \n",
       "21006.0       159.0   5422.140453   5564.039715      13081.0  \n",
       "21007.0       212.0  39764.177412  40591.066325          NaN  \n",
       "21008.0       175.0   5599.499351   5696.750596          NaN  \n",
       "21009.0       254.0  97593.678977  97731.727244          NaN  "
      ]
     },
     "execution_count": 8,
     "metadata": {},
     "output_type": "execute_result"
    }
   ],
   "source": [
    "# Combine all into one data frame\n",
    "\n",
    "from functools import reduce\n",
    "\n",
    "dfs = [demo, hdl, trig, tchol]\n",
    "df = reduce(lambda left,right: left.join(right), dfs)\n",
    "df = df[['Age', 'Gender', 'Ethnicity', 'Education', 'Income', 'HDL', \n",
    "         'Triglyceride', 'Total Chol', 'Weight Int', 'Weight MEC', 'Weight Fast']]\n",
    "df.head()"
   ]
  },
  {
   "cell_type": "code",
   "execution_count": 9,
   "metadata": {
    "scrolled": true
   },
   "outputs": [
    {
     "data": {
      "text/plain": [
       "count    71058.000000\n",
       "mean        31.198204\n",
       "std         24.850422\n",
       "min          0.000000\n",
       "25%          9.000000\n",
       "50%         25.000000\n",
       "75%         51.750000\n",
       "max         85.000000\n",
       "Name: Age, dtype: float64"
      ]
     },
     "execution_count": 9,
     "metadata": {},
     "output_type": "execute_result"
    }
   ],
   "source": [
    "df['Age'].describe()"
   ]
  },
  {
   "cell_type": "markdown",
   "metadata": {},
   "source": [
    "Using `seaborn`'s `heatmap`, we can check for missing values."
   ]
  },
  {
   "cell_type": "code",
   "execution_count": 10,
   "metadata": {
    "scrolled": true
   },
   "outputs": [
    {
     "data": {
      "text/plain": [
       "<matplotlib.axes._subplots.AxesSubplot at 0x1a105f5358>"
      ]
     },
     "execution_count": 10,
     "metadata": {},
     "output_type": "execute_result"
    },
    {
     "data": {
      "image/png": "[encoded data removed]",
      "text/plain": [
       "<Figure size 432x288 with 1 Axes>"
      ]
     },
     "metadata": {},
     "output_type": "display_data"
    }
   ],
   "source": [
    "# Check for missing values (Yellow bar indicades missing value)\n",
    "\n",
    "sns.heatmap(df.isnull(), yticklabels = False, cbar=False, cmap = 'viridis')"
   ]
  },
  {
   "cell_type": "markdown",
   "metadata": {},
   "source": [
    "## 2  Designing sample weights"
   ]
  },
  {
   "cell_type": "markdown",
   "metadata": {},
   "source": [
    "According to NHANES guidelines, there are three types of weights, with different uses. \n",
    "\n",
    "* WTINT2YR - (Weight Int) This should be used for analyzing interview data in a 2-year cycle , such as demographic information.\n",
    "\n",
    "* WTMEC2YR - (Weight MEC) This weight should be used for analyzing MEC examinination data in a 2-year cycle, such as HDL levels.\n",
    "\n",
    "* WTSAF2YR - (Weight Fast) This subsample weight should be used for analyzing Triglyceride levels.\n",
    "\n",
    "First we look at the raw weights, and note that they sum to the size of U.S. population. For example, in 2005, the raw weights sum to roughly 290 million, which is roughly the U.S. population in 2005."
   ]
  },
  {
   "cell_type": "code",
   "execution_count": 11,
   "metadata": {},
   "outputs": [
    {
     "data": {
      "text/plain": [
       "291616891.83997804"
      ]
     },
     "execution_count": 11,
     "metadata": {},
     "output_type": "execute_result"
    }
   ],
   "source": [
    "demo05['WTINT2YR'].sum()"
   ]
  },
  {
   "cell_type": "markdown",
   "metadata": {},
   "source": [
    "Note that the fasting subsample weight sums to less than US population. (This is more than 4/5 of the U.S. population. This is the reason we adjusted the MEC weight by 4/5 earlier.)"
   ]
  },
  {
   "cell_type": "code",
   "execution_count": 12,
   "metadata": {},
   "outputs": [
    {
     "data": {
      "text/plain": [
       "243600773.577"
      ]
     },
     "execution_count": 12,
     "metadata": {},
     "output_type": "execute_result"
    }
   ],
   "source": [
    "trig05['WTSAF2YR'].sum()"
   ]
  },
  {
   "cell_type": "markdown",
   "metadata": {},
   "source": [
    "### 2.1 Combining survey cycles\n",
    "The adopt the following methodology\n",
    "\n",
    "https://www.cdc.gov/nchs/tutorials/nhanes/SurveyDesign/Weighting/Task2.htm\n",
    "\n",
    "to change the survey weigths after combining the 7 2-year cycles (2003-2004, 2005-2006, 2007-2008, 2009-2010, 2011-2012 2013-2014, 2015-2016).  Let $\\{w_1,w_2,...,w_n\\}$ be the original weights of the combined dataset. The adjusted weights are defined by\n",
    "$$\n",
    "w'_i = \\frac{1}{7} w_i, \\,\\, i=1,...,n\n",
    "$$"
   ]
  },
  {
   "cell_type": "code",
   "execution_count": 13,
   "metadata": {},
   "outputs": [
    {
     "data": {
      "text/html": [
       "<div>\n",
       "<style scoped>\n",
       "    .dataframe tbody tr th:only-of-type {\n",
       "        vertical-align: middle;\n",
       "    }\n",
       "\n",
       "    .dataframe tbody tr th {\n",
       "        vertical-align: top;\n",
       "    }\n",
       "\n",
       "    .dataframe thead th {\n",
       "        text-align: right;\n",
       "    }\n",
       "</style>\n",
       "<table border=\"1\" class=\"dataframe\">\n",
       "  <thead>\n",
       "    <tr style=\"text-align: right;\">\n",
       "      <th></th>\n",
       "      <th>Age</th>\n",
       "      <th>Gender</th>\n",
       "      <th>Ethnicity</th>\n",
       "      <th>Education</th>\n",
       "      <th>Income</th>\n",
       "      <th>HDL</th>\n",
       "      <th>Triglyceride</th>\n",
       "      <th>Total Chol</th>\n",
       "      <th>Weight Int</th>\n",
       "      <th>Weight MEC</th>\n",
       "      <th>Weight Fast</th>\n",
       "    </tr>\n",
       "    <tr>\n",
       "      <th>Index</th>\n",
       "      <th></th>\n",
       "      <th></th>\n",
       "      <th></th>\n",
       "      <th></th>\n",
       "      <th></th>\n",
       "      <th></th>\n",
       "      <th></th>\n",
       "      <th></th>\n",
       "      <th></th>\n",
       "      <th></th>\n",
       "      <th></th>\n",
       "    </tr>\n",
       "  </thead>\n",
       "  <tbody>\n",
       "    <tr>\n",
       "      <th>21005.0</th>\n",
       "      <td>19.0</td>\n",
       "      <td>1.0</td>\n",
       "      <td>4.0</td>\n",
       "      <td>11.0</td>\n",
       "      <td>6.0</td>\n",
       "      <td>44.0</td>\n",
       "      <td>102.0</td>\n",
       "      <td>189.0</td>\n",
       "      <td>787.474421</td>\n",
       "      <td>832.111781</td>\n",
       "      <td>2012.028571</td>\n",
       "    </tr>\n",
       "    <tr>\n",
       "      <th>21006.0</th>\n",
       "      <td>16.0</td>\n",
       "      <td>2.0</td>\n",
       "      <td>4.0</td>\n",
       "      <td>11.0</td>\n",
       "      <td>6.0</td>\n",
       "      <td>53.0</td>\n",
       "      <td>71.0</td>\n",
       "      <td>159.0</td>\n",
       "      <td>774.591493</td>\n",
       "      <td>794.862816</td>\n",
       "      <td>1868.714286</td>\n",
       "    </tr>\n",
       "    <tr>\n",
       "      <th>21007.0</th>\n",
       "      <td>14.0</td>\n",
       "      <td>2.0</td>\n",
       "      <td>3.0</td>\n",
       "      <td>8.0</td>\n",
       "      <td>6.0</td>\n",
       "      <td>69.0</td>\n",
       "      <td>NaN</td>\n",
       "      <td>212.0</td>\n",
       "      <td>5680.596773</td>\n",
       "      <td>5798.723761</td>\n",
       "      <td>NaN</td>\n",
       "    </tr>\n",
       "    <tr>\n",
       "      <th>21008.0</th>\n",
       "      <td>17.0</td>\n",
       "      <td>1.0</td>\n",
       "      <td>4.0</td>\n",
       "      <td>10.0</td>\n",
       "      <td>7.0</td>\n",
       "      <td>66.0</td>\n",
       "      <td>NaN</td>\n",
       "      <td>175.0</td>\n",
       "      <td>799.928479</td>\n",
       "      <td>813.821514</td>\n",
       "      <td>NaN</td>\n",
       "    </tr>\n",
       "    <tr>\n",
       "      <th>21009.0</th>\n",
       "      <td>55.0</td>\n",
       "      <td>1.0</td>\n",
       "      <td>3.0</td>\n",
       "      <td>3.0</td>\n",
       "      <td>8.0</td>\n",
       "      <td>37.0</td>\n",
       "      <td>NaN</td>\n",
       "      <td>254.0</td>\n",
       "      <td>13941.954140</td>\n",
       "      <td>13961.675321</td>\n",
       "      <td>NaN</td>\n",
       "    </tr>\n",
       "  </tbody>\n",
       "</table>\n",
       "</div>"
      ],
      "text/plain": [
       "          Age  Gender  Ethnicity  Education  Income   HDL  Triglyceride  \\\n",
       "Index                                                                     \n",
       "21005.0  19.0     1.0        4.0       11.0     6.0  44.0         102.0   \n",
       "21006.0  16.0     2.0        4.0       11.0     6.0  53.0          71.0   \n",
       "21007.0  14.0     2.0        3.0        8.0     6.0  69.0           NaN   \n",
       "21008.0  17.0     1.0        4.0       10.0     7.0  66.0           NaN   \n",
       "21009.0  55.0     1.0        3.0        3.0     8.0  37.0           NaN   \n",
       "\n",
       "         Total Chol    Weight Int    Weight MEC  Weight Fast  \n",
       "Index                                                         \n",
       "21005.0       189.0    787.474421    832.111781  2012.028571  \n",
       "21006.0       159.0    774.591493    794.862816  1868.714286  \n",
       "21007.0       212.0   5680.596773   5798.723761          NaN  \n",
       "21008.0       175.0    799.928479    813.821514          NaN  \n",
       "21009.0       254.0  13941.954140  13961.675321          NaN  "
      ]
     },
     "execution_count": 13,
     "metadata": {},
     "output_type": "execute_result"
    }
   ],
   "source": [
    "df['Weight Int'] = df['Weight Int']/7\n",
    "df['Weight MEC'] = df['Weight MEC']/7\n",
    "df['Weight Fast'] = df['Weight Fast']/7\n",
    "df.head()"
   ]
  },
  {
   "cell_type": "markdown",
   "metadata": {},
   "source": [
    "### 2.2 Normalizing weights\n",
    "\n",
    "Let $\\{S_1,S_2,...,S_n\\}$ be the original sample of size $n$, associated with raw weights $\\{w_1,w_2,...,w_n\\}$. \n",
    "\n",
    "For each sampled unit $S_i$, define the normalized sample weight as\n",
    "$$\n",
    "w'_i = \\frac{w_i}{\\frac{1}{n} \\sum_{i=1}^n w_i}.\n",
    "$$\n",
    "\n",
    "In this case the sum of the normalized weights sum to the sample size:\n",
    "$$\n",
    "\\sum_{i=1}^n w'_i = \\frac{\\sum_{i=1}^n w_i}{\\frac{1}{n} \\sum_{j=1}^n w_j} = n\n",
    "$$"
   ]
  },
  {
   "cell_type": "code",
   "execution_count": 14,
   "metadata": {
    "scrolled": true
   },
   "outputs": [
    {
     "data": {
      "text/html": [
       "<div>\n",
       "<style scoped>\n",
       "    .dataframe tbody tr th:only-of-type {\n",
       "        vertical-align: middle;\n",
       "    }\n",
       "\n",
       "    .dataframe tbody tr th {\n",
       "        vertical-align: top;\n",
       "    }\n",
       "\n",
       "    .dataframe thead th {\n",
       "        text-align: right;\n",
       "    }\n",
       "</style>\n",
       "<table border=\"1\" class=\"dataframe\">\n",
       "  <thead>\n",
       "    <tr style=\"text-align: right;\">\n",
       "      <th></th>\n",
       "      <th>Age</th>\n",
       "      <th>Gender</th>\n",
       "      <th>Ethnicity</th>\n",
       "      <th>Education</th>\n",
       "      <th>Income</th>\n",
       "      <th>HDL</th>\n",
       "      <th>Triglyceride</th>\n",
       "      <th>Total Chol</th>\n",
       "      <th>Weight Int</th>\n",
       "      <th>Weight MEC</th>\n",
       "      <th>Weight Fast</th>\n",
       "    </tr>\n",
       "    <tr>\n",
       "      <th>Index</th>\n",
       "      <th></th>\n",
       "      <th></th>\n",
       "      <th></th>\n",
       "      <th></th>\n",
       "      <th></th>\n",
       "      <th></th>\n",
       "      <th></th>\n",
       "      <th></th>\n",
       "      <th></th>\n",
       "      <th></th>\n",
       "      <th></th>\n",
       "    </tr>\n",
       "  </thead>\n",
       "  <tbody>\n",
       "    <tr>\n",
       "      <th>21005.0</th>\n",
       "      <td>19.0</td>\n",
       "      <td>1.0</td>\n",
       "      <td>4.0</td>\n",
       "      <td>11.0</td>\n",
       "      <td>6.0</td>\n",
       "      <td>44.0</td>\n",
       "      <td>102.0</td>\n",
       "      <td>189.0</td>\n",
       "      <td>0.185532</td>\n",
       "      <td>0.196049</td>\n",
       "      <td>0.227178</td>\n",
       "    </tr>\n",
       "    <tr>\n",
       "      <th>21006.0</th>\n",
       "      <td>16.0</td>\n",
       "      <td>2.0</td>\n",
       "      <td>4.0</td>\n",
       "      <td>11.0</td>\n",
       "      <td>6.0</td>\n",
       "      <td>53.0</td>\n",
       "      <td>71.0</td>\n",
       "      <td>159.0</td>\n",
       "      <td>0.182497</td>\n",
       "      <td>0.187273</td>\n",
       "      <td>0.210996</td>\n",
       "    </tr>\n",
       "    <tr>\n",
       "      <th>21007.0</th>\n",
       "      <td>14.0</td>\n",
       "      <td>2.0</td>\n",
       "      <td>3.0</td>\n",
       "      <td>8.0</td>\n",
       "      <td>6.0</td>\n",
       "      <td>69.0</td>\n",
       "      <td>NaN</td>\n",
       "      <td>212.0</td>\n",
       "      <td>1.338371</td>\n",
       "      <td>1.366202</td>\n",
       "      <td>NaN</td>\n",
       "    </tr>\n",
       "    <tr>\n",
       "      <th>21008.0</th>\n",
       "      <td>17.0</td>\n",
       "      <td>1.0</td>\n",
       "      <td>4.0</td>\n",
       "      <td>10.0</td>\n",
       "      <td>7.0</td>\n",
       "      <td>66.0</td>\n",
       "      <td>NaN</td>\n",
       "      <td>175.0</td>\n",
       "      <td>0.188466</td>\n",
       "      <td>0.191740</td>\n",
       "      <td>NaN</td>\n",
       "    </tr>\n",
       "    <tr>\n",
       "      <th>21009.0</th>\n",
       "      <td>55.0</td>\n",
       "      <td>1.0</td>\n",
       "      <td>3.0</td>\n",
       "      <td>3.0</td>\n",
       "      <td>8.0</td>\n",
       "      <td>37.0</td>\n",
       "      <td>NaN</td>\n",
       "      <td>254.0</td>\n",
       "      <td>3.284780</td>\n",
       "      <td>3.289426</td>\n",
       "      <td>NaN</td>\n",
       "    </tr>\n",
       "  </tbody>\n",
       "</table>\n",
       "</div>"
      ],
      "text/plain": [
       "          Age  Gender  Ethnicity  Education  Income   HDL  Triglyceride  \\\n",
       "Index                                                                     \n",
       "21005.0  19.0     1.0        4.0       11.0     6.0  44.0         102.0   \n",
       "21006.0  16.0     2.0        4.0       11.0     6.0  53.0          71.0   \n",
       "21007.0  14.0     2.0        3.0        8.0     6.0  69.0           NaN   \n",
       "21008.0  17.0     1.0        4.0       10.0     7.0  66.0           NaN   \n",
       "21009.0  55.0     1.0        3.0        3.0     8.0  37.0           NaN   \n",
       "\n",
       "         Total Chol  Weight Int  Weight MEC  Weight Fast  \n",
       "Index                                                     \n",
       "21005.0       189.0    0.185532    0.196049     0.227178  \n",
       "21006.0       159.0    0.182497    0.187273     0.210996  \n",
       "21007.0       212.0    1.338371    1.366202          NaN  \n",
       "21008.0       175.0    0.188466    0.191740          NaN  \n",
       "21009.0       254.0    3.284780    3.289426          NaN  "
      ]
     },
     "execution_count": 14,
     "metadata": {},
     "output_type": "execute_result"
    }
   ],
   "source": [
    "df['Weight Int'] = df['Weight Int']/df['Weight Int'].mean()\n",
    "df['Weight MEC'] = df['Weight MEC']/df['Weight MEC'].mean()\n",
    "df['Weight Fast'] = df['Weight Fast']/df['Weight Fast'].mean()\n",
    "df.head()"
   ]
  },
  {
   "cell_type": "code",
   "execution_count": 15,
   "metadata": {
    "scrolled": true
   },
   "outputs": [
    {
     "data": {
      "text/plain": [
       "71058.0"
      ]
     },
     "execution_count": 15,
     "metadata": {},
     "output_type": "execute_result"
    }
   ],
   "source": [
    "df['Weight MEC'].sum()"
   ]
  },
  {
   "cell_type": "markdown",
   "metadata": {},
   "source": [
    "### 2.3 Sub-sample Weight Adjustment\n",
    "\n",
    "Let $\\{S_1,S_2,...,S_n\\}$ be a sample of size $n$, with normalized weights $\\{w_1, w_2,...,w_n\\}$, such that $\\sum_{i=1}^n w_i = n$. \n",
    "\n",
    "Let $\\{U_1,U_2,...,U_k\\}, k\\leq n$ be a subsample with weights $\\{w'_1, w'_2,...,w'_n\\}$, which are defined as\n",
    "$$\n",
    "w'_i = \\frac{w_i}{\\frac{1}{k}\\sum_{j=1}^k w_j}\n",
    "$$\n",
    "Note that the sum of the adjusted sample weights sum to $k$:\n",
    "$$\n",
    "\\sum_{i=1}^k w'_i = \\frac{\\sum_{i=1}^k w_i}{\\frac{1}{k}\\sum_{j=1}^k w_j} = k.\n",
    "$$\n",
    "This method will be applied each time we take a sub-sample of the 71058 individuals in our combined dataset. Next, we take subsamples based on HDL, Trigylceride, and Total Cholesterol. "
   ]
  },
  {
   "cell_type": "markdown",
   "metadata": {},
   "source": [
    "#### 2.3.1 HDL Subsample"
   ]
  },
  {
   "cell_type": "code",
   "execution_count": 16,
   "metadata": {},
   "outputs": [
    {
     "data": {
      "text/plain": [
       "<matplotlib.axes._subplots.AxesSubplot at 0x10df88748>"
      ]
     },
     "execution_count": 16,
     "metadata": {},
     "output_type": "execute_result"
    },
    {
     "data": {
      "image/png": "[encoded data removed]",
      "text/plain": [
       "<Figure size 432x288 with 1 Axes>"
      ]
     },
     "metadata": {},
     "output_type": "display_data"
    }
   ],
   "source": [
    "# Taking a subsample of college students age 18-24 \n",
    "df_hdl = df[(df['Age'] > 17) & (df['Age'] < 25) & \n",
    "            (df['Education'].isin([3.0, 4.0, 5.0, 13.0, 14.0, 15.0]))\n",
    "           ][['Age', 'Gender', 'Ethnicity', 'Income', 'HDL', 'Weight MEC']].copy()\n",
    "\n",
    "# Check for missing values\n",
    "sns.heatmap(df_hdl.isnull(), yticklabels = False, cbar=False, cmap = 'viridis')"
   ]
  },
  {
   "cell_type": "code",
   "execution_count": 17,
   "metadata": {},
   "outputs": [
    {
     "data": {
      "text/plain": [
       "4370.0"
      ]
     },
     "execution_count": 17,
     "metadata": {},
     "output_type": "execute_result"
    }
   ],
   "source": [
    "# Fill in the missing value by taking a sample average:\n",
    "df_hdl['HDL'].fillna(df_hdl['HDL'].mean(), inplace=True)\n",
    "\n",
    "# Adjusting for sub-sample weights\n",
    "df_hdl['Weight MEC'] = df_hdl['Weight MEC']/df_hdl['Weight MEC'].mean()\n",
    "\n",
    "# Note that the updated weights sum to the sub-sample size:\n",
    "df_hdl['Weight MEC'].sum()"
   ]
  },
  {
   "cell_type": "markdown",
   "metadata": {},
   "source": [
    "#### 2.3.2 Triglyceride Subsample"
   ]
  },
  {
   "cell_type": "code",
   "execution_count": 18,
   "metadata": {},
   "outputs": [
    {
     "data": {
      "text/plain": [
       "<matplotlib.axes._subplots.AxesSubplot at 0x1a1120c748>"
      ]
     },
     "execution_count": 18,
     "metadata": {},
     "output_type": "execute_result"
    },
    {
     "data": {
      "image/png": "[encoded data removed]",
      "text/plain": [
       "<Figure size 432x288 with 1 Axes>"
      ]
     },
     "metadata": {},
     "output_type": "display_data"
    }
   ],
   "source": [
    "# Taking a subsample of college students age 18-24 \n",
    "df_trig = df[(df['Age'] > 17) & (df['Age'] < 25) & \n",
    "             (df['Education'].isin([3.0, 4.0, 5.0, 13.0, 14.0, 15.0]))\n",
    "            ][['Age', 'Gender', 'Ethnicity', 'Income', 'Triglyceride', 'Weight Fast']].copy()\n",
    "\n",
    "# Check for missing values\n",
    "sns.heatmap(df_trig.isnull(), yticklabels = False, cbar=False, cmap = 'viridis')"
   ]
  },
  {
   "cell_type": "code",
   "execution_count": 19,
   "metadata": {
    "scrolled": true
   },
   "outputs": [
    {
     "data": {
      "text/plain": [
       "2338.0"
      ]
     },
     "execution_count": 19,
     "metadata": {},
     "output_type": "execute_result"
    }
   ],
   "source": [
    "# Note that the missing values occur together, so we drop them:\n",
    "df_trig = df_trig.dropna()\n",
    "\n",
    "# Adjusting for subsample weights\n",
    "df_trig['Weight Fast'] = df_trig['Weight Fast']/df_trig['Weight Fast'].mean()\n",
    "\n",
    "# Note that the updated weights sum to the sub-sample size:\n",
    "df_trig['Weight Fast'].sum()"
   ]
  },
  {
   "cell_type": "markdown",
   "metadata": {},
   "source": [
    "#### 2.3.3 Total Cholesterol Subsample"
   ]
  },
  {
   "cell_type": "code",
   "execution_count": 20,
   "metadata": {},
   "outputs": [
    {
     "data": {
      "text/plain": [
       "<matplotlib.axes._subplots.AxesSubplot at 0x1a1366a438>"
      ]
     },
     "execution_count": 20,
     "metadata": {},
     "output_type": "execute_result"
    },
    {
     "data": {
      "image/png": "[encoded data removed]",
      "text/plain": [
       "<Figure size 432x288 with 1 Axes>"
      ]
     },
     "metadata": {},
     "output_type": "display_data"
    }
   ],
   "source": [
    "# Taking a subsample of college students age 18-24 \n",
    "df_tchol = df[(df['Age'] > 17) & (df['Age'] < 25) & \n",
    "              (df['Education'].isin([3.0, 4.0, 5.0, 13.0, 14.0, 15.0]))\n",
    "            ][['Age', 'Gender', 'Ethnicity', 'Income', 'Total Chol', 'Weight MEC']].copy()\n",
    "\n",
    "# Check for missing values\n",
    "sns.heatmap(df_tchol.isnull(), yticklabels = False, cbar=False, cmap = 'viridis')"
   ]
  },
  {
   "cell_type": "code",
   "execution_count": 21,
   "metadata": {},
   "outputs": [
    {
     "data": {
      "text/plain": [
       "4370.0"
      ]
     },
     "execution_count": 21,
     "metadata": {},
     "output_type": "execute_result"
    }
   ],
   "source": [
    "# Fill in the missing value by taking a sample average:\n",
    "df_tchol['Total Chol'] = df_tchol['Total Chol'].fillna(df_tchol['Total Chol'].mean())\n",
    "\n",
    "# Adjusting for subsample weights\n",
    "df_tchol['Weight MEC'] = df_tchol['Weight MEC']/df_tchol['Weight MEC'].mean()\n",
    "\n",
    "# Note that the updated weights sum to the sub-sample size:\n",
    "df_tchol['Weight MEC'].sum()"
   ]
  },
  {
   "cell_type": "markdown",
   "metadata": {},
   "source": [
    "## 3 Data Analysis\n",
    "\n",
    "Now we have three clean data sets `df_hdl`, `df_trig`, `df_tchol`. We are finally to do some data analysis!"
   ]
  },
  {
   "cell_type": "markdown",
   "metadata": {},
   "source": [
    "### 3.1 Remapping data\n",
    "\n",
    "First we divide \"Income\" into three groups:\n",
    "    1. \"low\" - if Family Income < 20000\n",
    "    2. \"mid\" - if 20000 < Family Income < 75000\n",
    "    3. \"high\" - if Family Income > 75000\n",
    "We also specify the ethnicity values according to NHANES guide:\n",
    "    1. Mexican\n",
    "    2. Hispanic\n",
    "    3. White\n",
    "    4. Black\n",
    "    5. Other\n",
    "Fianlly, we apply the map for gender:\n",
    "    1. Male\n",
    "    2. Female"
   ]
  },
  {
   "cell_type": "code",
   "execution_count": 22,
   "metadata": {},
   "outputs": [],
   "source": [
    "# Mapping income and ethnicity\n",
    "\n",
    "def income_map( x ):\n",
    "    if x in [1.0, 2.0, 3.0, 4.0, 13.0]:\n",
    "        return 'low'\n",
    "    elif x in [5.0, 6.0, 7.0, 8.0, 9.0, 10.0, 12.0]:\n",
    "        return 'mid'\n",
    "    elif x in [11.0, 14.0, 15.0]:\n",
    "        return 'high'\n",
    "    else:\n",
    "        return np.nan\n",
    "\n",
    "ethnicity_map = {1:'Mexican', 2:'Hispanic', 3:'White', 4:'Black', 5:'Other'}\n",
    "gender_map = {1.0:'Male', 2.0: 'Female'}\n",
    "\n",
    "df_hdl['Income'] = df_hdl['Income'].apply(income_map)\n",
    "df_trig['Income'] = df_trig['Income'].apply(income_map)\n",
    "df_tchol['Income'] = df_tchol['Income'].apply(income_map)\n",
    "\n",
    "df_hdl['Gender'] = df_hdl['Gender'].map(gender_map)\n",
    "df_trig['Gender'] = df_trig['Gender'].map(gender_map)\n",
    "df_tchol['Gender'] = df_tchol['Gender'].map(gender_map)\n",
    "\n",
    "df_hdl['Ethnicity'] = df_hdl['Ethnicity'].map(ethnicity_map)\n",
    "df_trig['Ethnicity'] = df_trig['Ethnicity'].map(ethnicity_map)\n",
    "df_tchol['Ethnicity'] = df_tchol['Ethnicity'].map(ethnicity_map)"
   ]
  },
  {
   "cell_type": "markdown",
   "metadata": {},
   "source": [
    "### 3.2 Mathematical Background\n",
    "\n",
    "For iid sample points $X_1, X_2,...,X_n$, it is fairly straight forward to find the sample mean and sample variance by\n",
    "$$\n",
    "\\begin{aligned}\n",
    "\\bar{X} &= \\frac{1}{n} X_i \\\\\n",
    "S^2 &= \\frac{1}{n-1} (X_i-\\bar{X})^2\n",
    "\\end{aligned}\n",
    "$$\n",
    "\n",
    "However, if each $X_i$ is associated with a weight $w_i$, the old estimate does not apply anymore. (Consider the extreme case where $X_1$ has weight 1 and $X_2,...,X_n$ have weights 0.) "
   ]
  },
  {
   "cell_type": "markdown",
   "metadata": {},
   "source": [
    "#### 3.2.1 Calculating Weighted Sample Variance\n",
    "\n",
    "Let $X_1, X_2,..., X_n$ be samples with sample weights $w_1,w_2,...,w_n$. Then define\n",
    "$$\n",
    "p_i = \\frac{w_i}{\\sum_{i=1}^n w_i}, \\quad \\text{ such that } \\sum_{i=1}^n p_i = 1\n",
    "$$\n",
    "\n",
    "The weighted sample mean is naturally defined by\n",
    "$$\n",
    "\\bar{X} = \\sum_{i=1}^n X_i p_i\n",
    "$$\n",
    "The biased weighted sample variance is given by\n",
    "$$\n",
    "S_{\\text{bias}}^2 = \\sum_{i=1}^n (X_i - \\bar{X})^2 p_i = \\sum_{i=1}^n X_i^2 p_i - \\bar{X}^2\n",
    "$$\n",
    "\n",
    "This variance estimate is biased.  For small sample size, we need to make adjustments."
   ]
  },
  {
   "cell_type": "markdown",
   "metadata": {},
   "source": [
    "#### 3.2.2 Adjusting for weighted sample variance biase\n",
    "\n",
    "To adjust for the biase in $S_{\\text{bias}}^2$, we take the expected value:\n",
    "$$\n",
    "\\begin{aligned}\n",
    "E(S_{\\text{bias}}^2) &= E\\left[\\sum_{i=1}^n(X_i - \\mu)^2 p_i - 2(\\bar{X}-\\mu)\\sum_{i=1}^n(X_i - \\mu)p_i + (\\bar{X}-\\mu)^2\\sum_{i=1}^n p_i \\right] \\\\\n",
    "&=E\\left[\\sum_{i=1}^n(X_i-\\mu)^2p_i - 2(\\bar{X}-\\mu)\\left(\\sum_{i=1}^n(X_i-\\bar{X})p_i + \\sum_{i=1}^n(\\bar{X}-\\mu)p_i\\right) + (\\bar{X}-\\mu)^2 \\right] \\\\\n",
    "&=E\\left[ \\sum_{i=1}^n(X_i-\\mu)^2 p_i - 2(\\bar{X}-\\mu)^2 + (\\bar{X}-\\mu)^2\\right] \\\\\n",
    "&=E\\left[\\sum_{i=1}^n (X_i-\\mu)^2 p_i - (\\bar{X}-\\mu)^2\\right] \\\\\n",
    "&=E\\left[\\sum_{i=1}^n (X_i-\\mu)^2 p_i\\right] - E\\left[(\\bar{X}-\\mu)^2\\right] \\\\\n",
    "&=\\sum_{i=1}^np_i E\\left[(X_i-\\mu)^2\\right] - \\text{Var}(\\bar{X}) + \\left[E(\\bar{X}-\\mu)\\right]^2 \\\\\n",
    "&= \\sigma^2 - \\text{Var}\\left[\\sum_{i=1}^n X_i p_i\\right] \\\\\n",
    "&= \\sigma^2\\left(1-\\sum_{i=1}^np_i^2\\right)\n",
    "\\end{aligned}\n",
    "$$\n",
    "\n",
    "Hence, we define the unbiased weighted sample variance as\n",
    "$$\n",
    "S^2 = \\frac{1}{1-\\sum_{i=1}^n p_i^2} \\sum_{i=1}^n(X_i-\\bar{X})^2 p_i = \\left(1- \\frac{\\sum_{i=1}^n w_i^2}{\\left(\\sum_{i=1}^n w_i\\right)^2}\\right)^{-1}\\left(\\sum_{i=1}^n X_i^2 p_i - \\bar{X}^2\\right)\n",
    "$$\n",
    "\n",
    "If we are using normalized weights, then $\\sum_{i=1}^n w_i = n$, so that\n",
    "$$\n",
    "S^2 = \\left(1- \\frac{1}{n^2} \\sum_{i=1}^n w_i^2\\right)^{-1}\\left(\\sum_{i=1}^n X_i^2 p_i - \\bar{X}^2\\right)\n",
    "$$"
   ]
  },
  {
   "cell_type": "markdown",
   "metadata": {},
   "source": [
    "We write a Python function that outputs three numbers $(a,b,c)$ where $a$ is the point estimate of the mean, and $(b,c)$ is the $100(1-\\alpha)\\%$ confidence interval.  For this analysis, we use $\\alpha=0.05$ to be the significance level."
   ]
  },
  {
   "cell_type": "code",
   "execution_count": 23,
   "metadata": {},
   "outputs": [],
   "source": [
    "# Define a function that retuns (a, b, c) where a is the point estimate of the mean, \n",
    "# and (b, c) is the 100*(1-alpha)% confidence interval\n",
    "\n",
    "import scipy.stats as st\n",
    "\n",
    "def weighted_estimate( values, weights, alpha ):\n",
    "    \n",
    "    mean = np.average( values, weights = weights )\n",
    "    S = np.sqrt((np.average( values**2, weights = weights ) - mean**2 )\n",
    "                /( 1-np.sum(weights**2)/len(weights)**2) )\n",
    "\n",
    "    return (mean, mean - st.t.ppf(1-alpha/2, len(weights)-1)*S/np.sqrt(len(weights)), \n",
    "            mean + st.t.ppf(1-alpha/2, len(weights)-1)*S/np.sqrt(len(weights)) )    "
   ]
  },
  {
   "cell_type": "markdown",
   "metadata": {},
   "source": [
    "We are now ready to apply our method to each data sets separately."
   ]
  },
  {
   "cell_type": "markdown",
   "metadata": {},
   "source": [
    "### 3.3 HDL Analysis"
   ]
  },
  {
   "cell_type": "code",
   "execution_count": 24,
   "metadata": {},
   "outputs": [
    {
     "data": {
      "text/html": [
       "<div>\n",
       "<style scoped>\n",
       "    .dataframe tbody tr th:only-of-type {\n",
       "        vertical-align: middle;\n",
       "    }\n",
       "\n",
       "    .dataframe tbody tr th {\n",
       "        vertical-align: top;\n",
       "    }\n",
       "\n",
       "    .dataframe thead th {\n",
       "        text-align: right;\n",
       "    }\n",
       "</style>\n",
       "<table border=\"1\" class=\"dataframe\">\n",
       "  <thead>\n",
       "    <tr style=\"text-align: right;\">\n",
       "      <th></th>\n",
       "      <th>Age</th>\n",
       "      <th>Gender</th>\n",
       "      <th>Ethnicity</th>\n",
       "      <th>Income</th>\n",
       "      <th>HDL</th>\n",
       "      <th>Weight MEC</th>\n",
       "    </tr>\n",
       "    <tr>\n",
       "      <th>Index</th>\n",
       "      <th></th>\n",
       "      <th></th>\n",
       "      <th></th>\n",
       "      <th></th>\n",
       "      <th></th>\n",
       "      <th></th>\n",
       "    </tr>\n",
       "  </thead>\n",
       "  <tbody>\n",
       "    <tr>\n",
       "      <th>21097.0</th>\n",
       "      <td>23.0</td>\n",
       "      <td>Female</td>\n",
       "      <td>Black</td>\n",
       "      <td>mid</td>\n",
       "      <td>45.0</td>\n",
       "      <td>0.775859</td>\n",
       "    </tr>\n",
       "    <tr>\n",
       "      <th>21107.0</th>\n",
       "      <td>20.0</td>\n",
       "      <td>Male</td>\n",
       "      <td>White</td>\n",
       "      <td>mid</td>\n",
       "      <td>29.0</td>\n",
       "      <td>1.860274</td>\n",
       "    </tr>\n",
       "    <tr>\n",
       "      <th>21130.0</th>\n",
       "      <td>20.0</td>\n",
       "      <td>Female</td>\n",
       "      <td>Black</td>\n",
       "      <td>high</td>\n",
       "      <td>53.0</td>\n",
       "      <td>0.806247</td>\n",
       "    </tr>\n",
       "    <tr>\n",
       "      <th>21171.0</th>\n",
       "      <td>20.0</td>\n",
       "      <td>Female</td>\n",
       "      <td>Black</td>\n",
       "      <td>low</td>\n",
       "      <td>58.0</td>\n",
       "      <td>0.894561</td>\n",
       "    </tr>\n",
       "    <tr>\n",
       "      <th>21175.0</th>\n",
       "      <td>18.0</td>\n",
       "      <td>Female</td>\n",
       "      <td>Black</td>\n",
       "      <td>low</td>\n",
       "      <td>53.0</td>\n",
       "      <td>0.184017</td>\n",
       "    </tr>\n",
       "  </tbody>\n",
       "</table>\n",
       "</div>"
      ],
      "text/plain": [
       "          Age  Gender Ethnicity Income   HDL  Weight MEC\n",
       "Index                                                   \n",
       "21097.0  23.0  Female     Black    mid  45.0    0.775859\n",
       "21107.0  20.0    Male     White    mid  29.0    1.860274\n",
       "21130.0  20.0  Female     Black   high  53.0    0.806247\n",
       "21171.0  20.0  Female     Black    low  58.0    0.894561\n",
       "21175.0  18.0  Female     Black    low  53.0    0.184017"
      ]
     },
     "execution_count": 24,
     "metadata": {},
     "output_type": "execute_result"
    }
   ],
   "source": [
    "df_hdl.head()"
   ]
  },
  {
   "cell_type": "code",
   "execution_count": 25,
   "metadata": {},
   "outputs": [
    {
     "data": {
      "text/plain": [
       "4370"
      ]
     },
     "execution_count": 25,
     "metadata": {},
     "output_type": "execute_result"
    }
   ],
   "source": [
    "df_hdl['HDL'].count()"
   ]
  },
  {
   "cell_type": "markdown",
   "metadata": {},
   "source": [
    "#### 3.3.1 Gender"
   ]
  },
  {
   "cell_type": "code",
   "execution_count": 26,
   "metadata": {
    "scrolled": true
   },
   "outputs": [
    {
     "data": {
      "image/png": "[encoded data removed]",
      "text/plain": [
       "<Figure size 720x144 with 1 Axes>"
      ]
     },
     "metadata": {},
     "output_type": "display_data"
    }
   ],
   "source": [
    "f, ax = plt.subplots(figsize=(10, 2))\n",
    "sns.boxplot(y='Gender', x='HDL', data=df_hdl, palette='coolwarm')\n",
    "sns.despine(trim=True, left=True)"
   ]
  },
  {
   "cell_type": "code",
   "execution_count": 27,
   "metadata": {},
   "outputs": [
    {
     "data": {
      "text/html": [
       "<div>\n",
       "<style scoped>\n",
       "    .dataframe tbody tr th:only-of-type {\n",
       "        vertical-align: middle;\n",
       "    }\n",
       "\n",
       "    .dataframe tbody tr th {\n",
       "        vertical-align: top;\n",
       "    }\n",
       "\n",
       "    .dataframe thead th {\n",
       "        text-align: right;\n",
       "    }\n",
       "</style>\n",
       "<table border=\"1\" class=\"dataframe\">\n",
       "  <thead>\n",
       "    <tr style=\"text-align: right;\">\n",
       "      <th></th>\n",
       "      <th>count</th>\n",
       "      <th>mean</th>\n",
       "      <th>std</th>\n",
       "      <th>min</th>\n",
       "      <th>25%</th>\n",
       "      <th>50%</th>\n",
       "      <th>75%</th>\n",
       "      <th>max</th>\n",
       "    </tr>\n",
       "    <tr>\n",
       "      <th>Gender</th>\n",
       "      <th></th>\n",
       "      <th></th>\n",
       "      <th></th>\n",
       "      <th></th>\n",
       "      <th></th>\n",
       "      <th></th>\n",
       "      <th></th>\n",
       "      <th></th>\n",
       "    </tr>\n",
       "  </thead>\n",
       "  <tbody>\n",
       "    <tr>\n",
       "      <th>Female</th>\n",
       "      <td>2304.0</td>\n",
       "      <td>51.768137</td>\n",
       "      <td>20.818749</td>\n",
       "      <td>0.0</td>\n",
       "      <td>44.0</td>\n",
       "      <td>53.0</td>\n",
       "      <td>64.0</td>\n",
       "      <td>129.0</td>\n",
       "    </tr>\n",
       "    <tr>\n",
       "      <th>Male</th>\n",
       "      <td>2066.0</td>\n",
       "      <td>44.927618</td>\n",
       "      <td>18.023397</td>\n",
       "      <td>0.0</td>\n",
       "      <td>39.0</td>\n",
       "      <td>47.0</td>\n",
       "      <td>55.0</td>\n",
       "      <td>139.0</td>\n",
       "    </tr>\n",
       "  </tbody>\n",
       "</table>\n",
       "</div>"
      ],
      "text/plain": [
       "         count       mean        std  min   25%   50%   75%    max\n",
       "Gender                                                            \n",
       "Female  2304.0  51.768137  20.818749  0.0  44.0  53.0  64.0  129.0\n",
       "Male    2066.0  44.927618  18.023397  0.0  39.0  47.0  55.0  139.0"
      ]
     },
     "execution_count": 27,
     "metadata": {},
     "output_type": "execute_result"
    }
   ],
   "source": [
    "df_hdl.groupby('Gender')['HDL'].describe()"
   ]
  },
  {
   "cell_type": "code",
   "execution_count": 28,
   "metadata": {},
   "outputs": [],
   "source": [
    "hdl_values_male = np.array(df_hdl[df_hdl['Gender'] == 'Male']['HDL'])\n",
    "hdl_weights_male = np.array(df_hdl[df_hdl['Gender'] == 'Male']['Weight MEC'] /\n",
    "                           df_hdl[df_hdl['Gender'] == 'Male']['Weight MEC'].mean())\n",
    "\n",
    "hdl_values_female = np.array(df_hdl[df_hdl['Gender'] == 'Female']['HDL'])\n",
    "hdl_weights_female = np.array(df_hdl[df_hdl['Gender'] == 'Female']['Weight MEC'] /\n",
    "                             df_hdl[df_hdl['Gender'] == 'Female']['Weight MEC'].mean())"
   ]
  },
  {
   "cell_type": "code",
   "execution_count": 29,
   "metadata": {},
   "outputs": [
    {
     "data": {
      "text/plain": [
       "(51.61787802850586, 50.751461153280545, 52.48429490373117)"
      ]
     },
     "execution_count": 29,
     "metadata": {},
     "output_type": "execute_result"
    }
   ],
   "source": [
    "weighted_estimate(hdl_values_female, hdl_weights_female, 0.05)"
   ]
  },
  {
   "cell_type": "code",
   "execution_count": 30,
   "metadata": {
    "scrolled": false
   },
   "outputs": [
    {
     "data": {
      "text/plain": [
       "(44.104081667381, 43.32438701352597, 44.883776321236034)"
      ]
     },
     "execution_count": 30,
     "metadata": {},
     "output_type": "execute_result"
    }
   ],
   "source": [
    "weighted_estimate(hdl_values_male, hdl_weights_male, 0.05)"
   ]
  },
  {
   "cell_type": "markdown",
   "metadata": {},
   "source": [
    "#### 3.3.2 Income"
   ]
  },
  {
   "cell_type": "code",
   "execution_count": 31,
   "metadata": {
    "scrolled": true
   },
   "outputs": [
    {
     "data": {
      "image/png": "[encoded data removed]",
      "text/plain": [
       "<Figure size 720x144 with 1 Axes>"
      ]
     },
     "metadata": {},
     "output_type": "display_data"
    }
   ],
   "source": [
    "f, ax = plt.subplots(figsize=(10, 2))\n",
    "sns.boxplot(y='Income', x='HDL', data=df_hdl, palette='coolwarm')\n",
    "sns.despine(trim=True, left=True)"
   ]
  },
  {
   "cell_type": "code",
   "execution_count": 32,
   "metadata": {},
   "outputs": [
    {
     "data": {
      "text/html": [
       "<div>\n",
       "<style scoped>\n",
       "    .dataframe tbody tr th:only-of-type {\n",
       "        vertical-align: middle;\n",
       "    }\n",
       "\n",
       "    .dataframe tbody tr th {\n",
       "        vertical-align: top;\n",
       "    }\n",
       "\n",
       "    .dataframe thead th {\n",
       "        text-align: right;\n",
       "    }\n",
       "</style>\n",
       "<table border=\"1\" class=\"dataframe\">\n",
       "  <thead>\n",
       "    <tr style=\"text-align: right;\">\n",
       "      <th></th>\n",
       "      <th>count</th>\n",
       "      <th>mean</th>\n",
       "      <th>std</th>\n",
       "      <th>min</th>\n",
       "      <th>25%</th>\n",
       "      <th>50%</th>\n",
       "      <th>75%</th>\n",
       "      <th>max</th>\n",
       "    </tr>\n",
       "    <tr>\n",
       "      <th>Income</th>\n",
       "      <th></th>\n",
       "      <th></th>\n",
       "      <th></th>\n",
       "      <th></th>\n",
       "      <th></th>\n",
       "      <th></th>\n",
       "      <th></th>\n",
       "      <th></th>\n",
       "    </tr>\n",
       "  </thead>\n",
       "  <tbody>\n",
       "    <tr>\n",
       "      <th>high</th>\n",
       "      <td>745.0</td>\n",
       "      <td>48.325749</td>\n",
       "      <td>20.177194</td>\n",
       "      <td>0.0</td>\n",
       "      <td>40.0</td>\n",
       "      <td>50.0</td>\n",
       "      <td>60.0</td>\n",
       "      <td>103.0</td>\n",
       "    </tr>\n",
       "    <tr>\n",
       "      <th>low</th>\n",
       "      <td>1521.0</td>\n",
       "      <td>49.046533</td>\n",
       "      <td>20.035971</td>\n",
       "      <td>0.0</td>\n",
       "      <td>41.0</td>\n",
       "      <td>50.0</td>\n",
       "      <td>61.0</td>\n",
       "      <td>129.0</td>\n",
       "    </tr>\n",
       "    <tr>\n",
       "      <th>mid</th>\n",
       "      <td>1902.0</td>\n",
       "      <td>48.346778</td>\n",
       "      <td>19.469684</td>\n",
       "      <td>0.0</td>\n",
       "      <td>41.0</td>\n",
       "      <td>49.0</td>\n",
       "      <td>59.0</td>\n",
       "      <td>139.0</td>\n",
       "    </tr>\n",
       "  </tbody>\n",
       "</table>\n",
       "</div>"
      ],
      "text/plain": [
       "         count       mean        std  min   25%   50%   75%    max\n",
       "Income                                                            \n",
       "high     745.0  48.325749  20.177194  0.0  40.0  50.0  60.0  103.0\n",
       "low     1521.0  49.046533  20.035971  0.0  41.0  50.0  61.0  129.0\n",
       "mid     1902.0  48.346778  19.469684  0.0  41.0  49.0  59.0  139.0"
      ]
     },
     "execution_count": 32,
     "metadata": {},
     "output_type": "execute_result"
    }
   ],
   "source": [
    "df_hdl.groupby('Income')['HDL'].describe()"
   ]
  },
  {
   "cell_type": "code",
   "execution_count": 33,
   "metadata": {},
   "outputs": [],
   "source": [
    "hdl_values_low = np.array(df_hdl[df_hdl['Income'] == 'low']['HDL'])\n",
    "hdl_weights_low = np.array(df_hdl[df_hdl['Income'] == 'low']['Weight MEC'] /\n",
    "                          df_hdl[df_hdl['Income'] == 'low']['Weight MEC'].mean())\n",
    "\n",
    "hdl_values_mid = np.array(df_hdl[df_hdl['Income'] == 'mid']['HDL'])\n",
    "hdl_weights_mid = np.array(df_hdl[df_hdl['Income'] == 'mid']['Weight MEC'] /\n",
    "                          df_hdl[df_hdl['Income'] == 'mid']['Weight MEC'].mean())\n",
    "\n",
    "hdl_values_high = np.array(df_hdl[df_hdl['Income'] == 'high']['HDL'])\n",
    "hdl_weights_high = np.array(df_hdl[df_hdl['Income'] == 'high']['Weight MEC'] / \n",
    "                           df_hdl[df_hdl['Income'] == 'high']['Weight MEC'].mean())"
   ]
  },
  {
   "cell_type": "code",
   "execution_count": 34,
   "metadata": {},
   "outputs": [
    {
     "data": {
      "text/plain": [
       "(48.314575234559996, 47.284023264745315, 49.34512720437468)"
      ]
     },
     "execution_count": 34,
     "metadata": {},
     "output_type": "execute_result"
    }
   ],
   "source": [
    "weighted_estimate(hdl_values_low, hdl_weights_low, 0.05)"
   ]
  },
  {
   "cell_type": "code",
   "execution_count": 35,
   "metadata": {},
   "outputs": [
    {
     "data": {
      "text/plain": [
       "(48.08472537260012, 47.20433232307273, 48.96511842212751)"
      ]
     },
     "execution_count": 35,
     "metadata": {},
     "output_type": "execute_result"
    }
   ],
   "source": [
    "weighted_estimate(hdl_values_mid, hdl_weights_mid, 0.05)"
   ]
  },
  {
   "cell_type": "code",
   "execution_count": 36,
   "metadata": {},
   "outputs": [
    {
     "data": {
      "text/plain": [
       "(47.03794813680216, 45.592474225654044, 48.48342204795027)"
      ]
     },
     "execution_count": 36,
     "metadata": {},
     "output_type": "execute_result"
    }
   ],
   "source": [
    "weighted_estimate(hdl_values_high, hdl_weights_high, 0.05)"
   ]
  },
  {
   "cell_type": "markdown",
   "metadata": {},
   "source": [
    "#### 3.3.3 Ethnicity"
   ]
  },
  {
   "cell_type": "code",
   "execution_count": 37,
   "metadata": {
    "scrolled": true
   },
   "outputs": [
    {
     "data": {
      "image/png": "[encoded data removed]",
      "text/plain": [
       "<Figure size 720x216 with 1 Axes>"
      ]
     },
     "metadata": {},
     "output_type": "display_data"
    }
   ],
   "source": [
    "f, ax = plt.subplots(figsize=(10, 3))\n",
    "sns.boxplot(y='Ethnicity', x='HDL', data=df_hdl, palette='coolwarm')\n",
    "sns.despine(trim=True, left=True)"
   ]
  },
  {
   "cell_type": "code",
   "execution_count": 38,
   "metadata": {},
   "outputs": [
    {
     "data": {
      "text/html": [
       "<div>\n",
       "<style scoped>\n",
       "    .dataframe tbody tr th:only-of-type {\n",
       "        vertical-align: middle;\n",
       "    }\n",
       "\n",
       "    .dataframe tbody tr th {\n",
       "        vertical-align: top;\n",
       "    }\n",
       "\n",
       "    .dataframe thead th {\n",
       "        text-align: right;\n",
       "    }\n",
       "</style>\n",
       "<table border=\"1\" class=\"dataframe\">\n",
       "  <thead>\n",
       "    <tr style=\"text-align: right;\">\n",
       "      <th></th>\n",
       "      <th>count</th>\n",
       "      <th>mean</th>\n",
       "      <th>std</th>\n",
       "      <th>min</th>\n",
       "      <th>25%</th>\n",
       "      <th>50%</th>\n",
       "      <th>75%</th>\n",
       "      <th>max</th>\n",
       "    </tr>\n",
       "    <tr>\n",
       "      <th>Ethnicity</th>\n",
       "      <th></th>\n",
       "      <th></th>\n",
       "      <th></th>\n",
       "      <th></th>\n",
       "      <th></th>\n",
       "      <th></th>\n",
       "      <th></th>\n",
       "      <th></th>\n",
       "    </tr>\n",
       "  </thead>\n",
       "  <tbody>\n",
       "    <tr>\n",
       "      <th>Black</th>\n",
       "      <td>1137.0</td>\n",
       "      <td>50.406463</td>\n",
       "      <td>21.553712</td>\n",
       "      <td>0.0</td>\n",
       "      <td>43.00</td>\n",
       "      <td>52.000000</td>\n",
       "      <td>63.0</td>\n",
       "      <td>139.0</td>\n",
       "    </tr>\n",
       "    <tr>\n",
       "      <th>Hispanic</th>\n",
       "      <td>333.0</td>\n",
       "      <td>48.291533</td>\n",
       "      <td>17.720432</td>\n",
       "      <td>0.0</td>\n",
       "      <td>40.00</td>\n",
       "      <td>48.534153</td>\n",
       "      <td>60.0</td>\n",
       "      <td>86.0</td>\n",
       "    </tr>\n",
       "    <tr>\n",
       "      <th>Mexican</th>\n",
       "      <td>771.0</td>\n",
       "      <td>48.346070</td>\n",
       "      <td>18.258124</td>\n",
       "      <td>0.0</td>\n",
       "      <td>41.00</td>\n",
       "      <td>48.534153</td>\n",
       "      <td>58.0</td>\n",
       "      <td>129.0</td>\n",
       "    </tr>\n",
       "    <tr>\n",
       "      <th>Other</th>\n",
       "      <td>519.0</td>\n",
       "      <td>48.950454</td>\n",
       "      <td>19.104403</td>\n",
       "      <td>0.0</td>\n",
       "      <td>42.50</td>\n",
       "      <td>50.000000</td>\n",
       "      <td>60.0</td>\n",
       "      <td>98.0</td>\n",
       "    </tr>\n",
       "    <tr>\n",
       "      <th>White</th>\n",
       "      <td>1610.0</td>\n",
       "      <td>47.217958</td>\n",
       "      <td>19.870374</td>\n",
       "      <td>0.0</td>\n",
       "      <td>39.25</td>\n",
       "      <td>49.000000</td>\n",
       "      <td>58.0</td>\n",
       "      <td>113.0</td>\n",
       "    </tr>\n",
       "  </tbody>\n",
       "</table>\n",
       "</div>"
      ],
      "text/plain": [
       "            count       mean        std  min    25%        50%   75%    max\n",
       "Ethnicity                                                                  \n",
       "Black      1137.0  50.406463  21.553712  0.0  43.00  52.000000  63.0  139.0\n",
       "Hispanic    333.0  48.291533  17.720432  0.0  40.00  48.534153  60.0   86.0\n",
       "Mexican     771.0  48.346070  18.258124  0.0  41.00  48.534153  58.0  129.0\n",
       "Other       519.0  48.950454  19.104403  0.0  42.50  50.000000  60.0   98.0\n",
       "White      1610.0  47.217958  19.870374  0.0  39.25  49.000000  58.0  113.0"
      ]
     },
     "execution_count": 38,
     "metadata": {},
     "output_type": "execute_result"
    }
   ],
   "source": [
    "df_hdl.groupby('Ethnicity')['HDL'].describe()"
   ]
  },
  {
   "cell_type": "code",
   "execution_count": 39,
   "metadata": {},
   "outputs": [],
   "source": [
    "hdl_values_black = np.array(df_hdl[df_hdl['Ethnicity'] == 'Black']['HDL'])\n",
    "hdl_weights_black = np.array(df_hdl[df_hdl['Ethnicity'] == 'Black']['Weight MEC'] /\n",
    "                          df_hdl[df_hdl['Ethnicity'] == 'Black']['Weight MEC'].mean())\n",
    "\n",
    "hdl_values_white = np.array(df_hdl[df_hdl['Ethnicity'] == 'White']['HDL'])\n",
    "hdl_weights_white = np.array(df_hdl[df_hdl['Ethnicity'] == 'White']['Weight MEC'] /\n",
    "                          df_hdl[df_hdl['Ethnicity'] == 'White']['Weight MEC'].mean())\n",
    "\n",
    "hdl_values_mexican = np.array(df_hdl[df_hdl['Ethnicity'] == 'Mexican']['HDL'])\n",
    "hdl_weights_mexican = np.array(df_hdl[df_hdl['Ethnicity'] == 'Mexican']['Weight MEC'] / \n",
    "                           df_hdl[df_hdl['Ethnicity'] == 'Mexican']['Weight MEC'].mean())\n",
    "\n",
    "hdl_values_hispanic = np.array(df_hdl[df_hdl['Ethnicity'] == 'Hispanic']['HDL'])\n",
    "hdl_weights_hispanic = np.array(df_hdl[df_hdl['Ethnicity'] == 'Hispanic']['Weight MEC'] / \n",
    "                           df_hdl[df_hdl['Ethnicity'] == 'Hispanic']['Weight MEC'].mean())\n",
    "\n",
    "hdl_values_other = np.array(df_hdl[df_hdl['Ethnicity'] == 'Other']['HDL'])\n",
    "hdl_weights_other = np.array(df_hdl[df_hdl['Ethnicity'] == 'Other']['Weight MEC'] / \n",
    "                           df_hdl[df_hdl['Ethnicity'] == 'Other']['Weight MEC'].mean())"
   ]
  },
  {
   "cell_type": "code",
   "execution_count": 40,
   "metadata": {},
   "outputs": [
    {
     "data": {
      "text/plain": [
       "(50.56182728500764, 49.283717911154284, 51.83993665886099)"
      ]
     },
     "execution_count": 40,
     "metadata": {},
     "output_type": "execute_result"
    }
   ],
   "source": [
    "weighted_estimate(hdl_values_black, hdl_weights_black, 0.05)"
   ]
  },
  {
   "cell_type": "code",
   "execution_count": 41,
   "metadata": {},
   "outputs": [
    {
     "data": {
      "text/plain": [
       "(46.97077309995158, 45.986118494488984, 47.95542770541417)"
      ]
     },
     "execution_count": 41,
     "metadata": {},
     "output_type": "execute_result"
    }
   ],
   "source": [
    "weighted_estimate(hdl_values_white, hdl_weights_white, 0.05)"
   ]
  },
  {
   "cell_type": "code",
   "execution_count": 42,
   "metadata": {},
   "outputs": [
    {
     "data": {
      "text/plain": [
       "(48.096380786432746, 46.83398746210728, 49.35877411075821)"
      ]
     },
     "execution_count": 42,
     "metadata": {},
     "output_type": "execute_result"
    }
   ],
   "source": [
    "weighted_estimate(hdl_values_mexican, hdl_weights_mexican, 0.05)"
   ]
  },
  {
   "cell_type": "code",
   "execution_count": 43,
   "metadata": {},
   "outputs": [
    {
     "data": {
      "text/plain": [
       "(48.11521101439338, 46.21901053918815, 50.011411489598615)"
      ]
     },
     "execution_count": 43,
     "metadata": {},
     "output_type": "execute_result"
    }
   ],
   "source": [
    "weighted_estimate(hdl_values_hispanic, hdl_weights_hispanic, 0.05)"
   ]
  },
  {
   "cell_type": "code",
   "execution_count": 44,
   "metadata": {},
   "outputs": [
    {
     "data": {
      "text/plain": [
       "(49.9491658137644, 48.25059701634863, 51.64773461118018)"
      ]
     },
     "execution_count": 44,
     "metadata": {},
     "output_type": "execute_result"
    }
   ],
   "source": [
    "weighted_estimate(hdl_values_other, hdl_weights_other, 0.05)"
   ]
  },
  {
   "cell_type": "markdown",
   "metadata": {},
   "source": [
    "### Triglyceride Analysis"
   ]
  },
  {
   "cell_type": "code",
   "execution_count": 45,
   "metadata": {
    "scrolled": false
   },
   "outputs": [
    {
     "data": {
      "text/html": [
       "<div>\n",
       "<style scoped>\n",
       "    .dataframe tbody tr th:only-of-type {\n",
       "        vertical-align: middle;\n",
       "    }\n",
       "\n",
       "    .dataframe tbody tr th {\n",
       "        vertical-align: top;\n",
       "    }\n",
       "\n",
       "    .dataframe thead th {\n",
       "        text-align: right;\n",
       "    }\n",
       "</style>\n",
       "<table border=\"1\" class=\"dataframe\">\n",
       "  <thead>\n",
       "    <tr style=\"text-align: right;\">\n",
       "      <th></th>\n",
       "      <th>Age</th>\n",
       "      <th>Gender</th>\n",
       "      <th>Ethnicity</th>\n",
       "      <th>Income</th>\n",
       "      <th>Triglyceride</th>\n",
       "      <th>Weight Fast</th>\n",
       "    </tr>\n",
       "    <tr>\n",
       "      <th>Index</th>\n",
       "      <th></th>\n",
       "      <th></th>\n",
       "      <th></th>\n",
       "      <th></th>\n",
       "      <th></th>\n",
       "      <th></th>\n",
       "    </tr>\n",
       "  </thead>\n",
       "  <tbody>\n",
       "    <tr>\n",
       "      <th>21107.0</th>\n",
       "      <td>20.0</td>\n",
       "      <td>Male</td>\n",
       "      <td>White</td>\n",
       "      <td>mid</td>\n",
       "      <td>143.0</td>\n",
       "      <td>2.482447</td>\n",
       "    </tr>\n",
       "    <tr>\n",
       "      <th>21130.0</th>\n",
       "      <td>20.0</td>\n",
       "      <td>Female</td>\n",
       "      <td>Black</td>\n",
       "      <td>high</td>\n",
       "      <td>64.0</td>\n",
       "      <td>1.207012</td>\n",
       "    </tr>\n",
       "    <tr>\n",
       "      <th>21219.0</th>\n",
       "      <td>21.0</td>\n",
       "      <td>Male</td>\n",
       "      <td>White</td>\n",
       "      <td>mid</td>\n",
       "      <td>92.0</td>\n",
       "      <td>2.482447</td>\n",
       "    </tr>\n",
       "    <tr>\n",
       "      <th>21221.0</th>\n",
       "      <td>23.0</td>\n",
       "      <td>Male</td>\n",
       "      <td>Mexican</td>\n",
       "      <td>mid</td>\n",
       "      <td>101.0</td>\n",
       "      <td>1.160214</td>\n",
       "    </tr>\n",
       "    <tr>\n",
       "      <th>21313.0</th>\n",
       "      <td>22.0</td>\n",
       "      <td>Female</td>\n",
       "      <td>White</td>\n",
       "      <td>low</td>\n",
       "      <td>100.0</td>\n",
       "      <td>0.000000</td>\n",
       "    </tr>\n",
       "  </tbody>\n",
       "</table>\n",
       "</div>"
      ],
      "text/plain": [
       "          Age  Gender Ethnicity Income  Triglyceride  Weight Fast\n",
       "Index                                                            \n",
       "21107.0  20.0    Male     White    mid         143.0     2.482447\n",
       "21130.0  20.0  Female     Black   high          64.0     1.207012\n",
       "21219.0  21.0    Male     White    mid          92.0     2.482447\n",
       "21221.0  23.0    Male   Mexican    mid         101.0     1.160214\n",
       "21313.0  22.0  Female     White    low         100.0     0.000000"
      ]
     },
     "execution_count": 45,
     "metadata": {},
     "output_type": "execute_result"
    }
   ],
   "source": [
    "df_trig.head()"
   ]
  },
  {
   "cell_type": "code",
   "execution_count": 46,
   "metadata": {},
   "outputs": [
    {
     "data": {
      "text/plain": [
       "2338"
      ]
     },
     "execution_count": 46,
     "metadata": {},
     "output_type": "execute_result"
    }
   ],
   "source": [
    "df_trig['Triglyceride'].count()"
   ]
  },
  {
   "cell_type": "markdown",
   "metadata": {},
   "source": [
    "#### 3.3.1 Gender"
   ]
  },
  {
   "cell_type": "code",
   "execution_count": 47,
   "metadata": {
    "scrolled": true
   },
   "outputs": [
    {
     "data": {
      "image/png": "[encoded data removed]",
      "text/plain": [
       "<Figure size 720x288 with 2 Axes>"
      ]
     },
     "metadata": {},
     "output_type": "display_data"
    }
   ],
   "source": [
    "f, axes = plt.subplots(2, 1, figsize=(10, 4))\n",
    "sns.boxplot(y='Gender', x='Triglyceride', data=df_trig, palette='coolwarm', ax=axes[0])\n",
    "sns.boxplot(y='Gender', x='Triglyceride', data=df_trig, palette='coolwarm', ax=axes[1], showfliers=False)\n",
    "sns.despine(trim=True, left=True)\n",
    "axes[1].set_title(\"Hiding Outliers\")\n",
    "f.tight_layout()"
   ]
  },
  {
   "cell_type": "code",
   "execution_count": 48,
   "metadata": {},
   "outputs": [
    {
     "data": {
      "text/html": [
       "<div>\n",
       "<style scoped>\n",
       "    .dataframe tbody tr th:only-of-type {\n",
       "        vertical-align: middle;\n",
       "    }\n",
       "\n",
       "    .dataframe tbody tr th {\n",
       "        vertical-align: top;\n",
       "    }\n",
       "\n",
       "    .dataframe thead th {\n",
       "        text-align: right;\n",
       "    }\n",
       "</style>\n",
       "<table border=\"1\" class=\"dataframe\">\n",
       "  <thead>\n",
       "    <tr style=\"text-align: right;\">\n",
       "      <th></th>\n",
       "      <th>count</th>\n",
       "      <th>mean</th>\n",
       "      <th>std</th>\n",
       "      <th>min</th>\n",
       "      <th>25%</th>\n",
       "      <th>50%</th>\n",
       "      <th>75%</th>\n",
       "      <th>max</th>\n",
       "    </tr>\n",
       "    <tr>\n",
       "      <th>Gender</th>\n",
       "      <th></th>\n",
       "      <th></th>\n",
       "      <th></th>\n",
       "      <th></th>\n",
       "      <th></th>\n",
       "      <th></th>\n",
       "      <th></th>\n",
       "      <th></th>\n",
       "    </tr>\n",
       "  </thead>\n",
       "  <tbody>\n",
       "    <tr>\n",
       "      <th>Female</th>\n",
       "      <td>1242.0</td>\n",
       "      <td>87.856683</td>\n",
       "      <td>67.503332</td>\n",
       "      <td>0.0</td>\n",
       "      <td>51.0</td>\n",
       "      <td>74.0</td>\n",
       "      <td>110.75</td>\n",
       "      <td>857.0</td>\n",
       "    </tr>\n",
       "    <tr>\n",
       "      <th>Male</th>\n",
       "      <td>1096.0</td>\n",
       "      <td>98.790146</td>\n",
       "      <td>85.898399</td>\n",
       "      <td>0.0</td>\n",
       "      <td>55.0</td>\n",
       "      <td>81.0</td>\n",
       "      <td>120.25</td>\n",
       "      <td>1403.0</td>\n",
       "    </tr>\n",
       "  </tbody>\n",
       "</table>\n",
       "</div>"
      ],
      "text/plain": [
       "         count       mean        std  min   25%   50%     75%     max\n",
       "Gender                                                               \n",
       "Female  1242.0  87.856683  67.503332  0.0  51.0  74.0  110.75   857.0\n",
       "Male    1096.0  98.790146  85.898399  0.0  55.0  81.0  120.25  1403.0"
      ]
     },
     "execution_count": 48,
     "metadata": {},
     "output_type": "execute_result"
    }
   ],
   "source": [
    "df_trig.groupby('Gender')['Triglyceride'].describe()"
   ]
  },
  {
   "cell_type": "code",
   "execution_count": 49,
   "metadata": {},
   "outputs": [],
   "source": [
    "trig_values_male = np.array(df_trig[df_trig['Gender'] == 'Male']['Triglyceride'])\n",
    "trig_weights_male = np.array(df_trig[df_trig['Gender'] == 'Male']['Weight Fast'] /\n",
    "                           df_trig[df_trig['Gender'] == 'Male']['Weight Fast'].mean())\n",
    "\n",
    "trig_values_female = np.array(df_trig[df_trig['Gender'] == 'Female']['Triglyceride'])\n",
    "trig_weights_female = np.array(df_trig[df_trig['Gender'] == 'Female']['Weight Fast'] /\n",
    "                             df_trig[df_trig['Gender'] == 'Female']['Weight Fast'].mean())"
   ]
  },
  {
   "cell_type": "code",
   "execution_count": 50,
   "metadata": {},
   "outputs": [
    {
     "data": {
      "text/plain": [
       "(93.77461046558993, 90.19344874126992, 97.35577218990994)"
      ]
     },
     "execution_count": 50,
     "metadata": {},
     "output_type": "execute_result"
    }
   ],
   "source": [
    "weighted_estimate(trig_values_female, trig_weights_female, 0.05)"
   ]
  },
  {
   "cell_type": "code",
   "execution_count": 51,
   "metadata": {
    "scrolled": false
   },
   "outputs": [
    {
     "data": {
      "text/plain": [
       "(106.67718450402494, 102.41275573168058, 110.9416132763693)"
      ]
     },
     "execution_count": 51,
     "metadata": {},
     "output_type": "execute_result"
    }
   ],
   "source": [
    "weighted_estimate(trig_values_male, trig_weights_male, 0.05)"
   ]
  },
  {
   "cell_type": "markdown",
   "metadata": {},
   "source": [
    "#### 3.3.2 Income"
   ]
  },
  {
   "cell_type": "code",
   "execution_count": 52,
   "metadata": {},
   "outputs": [
    {
     "data": {
      "image/png": "[encoded data removed]",
      "text/plain": [
       "<Figure size 720x360 with 2 Axes>"
      ]
     },
     "metadata": {},
     "output_type": "display_data"
    }
   ],
   "source": [
    "f, axes = plt.subplots(2, 1, figsize=(10, 5))\n",
    "sns.boxplot(y='Income', x='Triglyceride', data=df_trig, palette='coolwarm', ax=axes[0])\n",
    "sns.boxplot(y='Income', x='Triglyceride', data=df_trig, palette='coolwarm', ax=axes[1], showfliers=False)\n",
    "sns.despine(trim=True, left=True)\n",
    "axes[1].set_title(\"Hiding Outliers\")\n",
    "f.tight_layout()"
   ]
  },
  {
   "cell_type": "code",
   "execution_count": 53,
   "metadata": {},
   "outputs": [
    {
     "data": {
      "text/html": [
       "<div>\n",
       "<style scoped>\n",
       "    .dataframe tbody tr th:only-of-type {\n",
       "        vertical-align: middle;\n",
       "    }\n",
       "\n",
       "    .dataframe tbody tr th {\n",
       "        vertical-align: top;\n",
       "    }\n",
       "\n",
       "    .dataframe thead th {\n",
       "        text-align: right;\n",
       "    }\n",
       "</style>\n",
       "<table border=\"1\" class=\"dataframe\">\n",
       "  <thead>\n",
       "    <tr style=\"text-align: right;\">\n",
       "      <th></th>\n",
       "      <th>count</th>\n",
       "      <th>mean</th>\n",
       "      <th>std</th>\n",
       "      <th>min</th>\n",
       "      <th>25%</th>\n",
       "      <th>50%</th>\n",
       "      <th>75%</th>\n",
       "      <th>max</th>\n",
       "    </tr>\n",
       "    <tr>\n",
       "      <th>Income</th>\n",
       "      <th></th>\n",
       "      <th></th>\n",
       "      <th></th>\n",
       "      <th></th>\n",
       "      <th></th>\n",
       "      <th></th>\n",
       "      <th></th>\n",
       "      <th></th>\n",
       "    </tr>\n",
       "  </thead>\n",
       "  <tbody>\n",
       "    <tr>\n",
       "      <th>high</th>\n",
       "      <td>408.0</td>\n",
       "      <td>87.693627</td>\n",
       "      <td>63.854655</td>\n",
       "      <td>0.0</td>\n",
       "      <td>51.75</td>\n",
       "      <td>77.0</td>\n",
       "      <td>110.25</td>\n",
       "      <td>452.0</td>\n",
       "    </tr>\n",
       "    <tr>\n",
       "      <th>low</th>\n",
       "      <td>792.0</td>\n",
       "      <td>94.069444</td>\n",
       "      <td>88.720311</td>\n",
       "      <td>0.0</td>\n",
       "      <td>52.00</td>\n",
       "      <td>78.0</td>\n",
       "      <td>113.00</td>\n",
       "      <td>1403.0</td>\n",
       "    </tr>\n",
       "    <tr>\n",
       "      <th>mid</th>\n",
       "      <td>1021.0</td>\n",
       "      <td>95.343781</td>\n",
       "      <td>72.917482</td>\n",
       "      <td>0.0</td>\n",
       "      <td>55.00</td>\n",
       "      <td>78.0</td>\n",
       "      <td>118.00</td>\n",
       "      <td>688.0</td>\n",
       "    </tr>\n",
       "  </tbody>\n",
       "</table>\n",
       "</div>"
      ],
      "text/plain": [
       "         count       mean        std  min    25%   50%     75%     max\n",
       "Income                                                                \n",
       "high     408.0  87.693627  63.854655  0.0  51.75  77.0  110.25   452.0\n",
       "low      792.0  94.069444  88.720311  0.0  52.00  78.0  113.00  1403.0\n",
       "mid     1021.0  95.343781  72.917482  0.0  55.00  78.0  118.00   688.0"
      ]
     },
     "execution_count": 53,
     "metadata": {},
     "output_type": "execute_result"
    }
   ],
   "source": [
    "df_trig.groupby('Income')['Triglyceride'].describe()"
   ]
  },
  {
   "cell_type": "code",
   "execution_count": 54,
   "metadata": {},
   "outputs": [],
   "source": [
    "trig_values_low = np.array(df_trig[df_trig['Income'] == 'low']['Triglyceride'])\n",
    "trig_weights_low = np.array(df_trig[df_trig['Income'] == 'low']['Weight Fast'] /\n",
    "                          df_trig[df_trig['Income'] == 'low']['Weight Fast'].mean())\n",
    "\n",
    "trig_values_mid = np.array(df_trig[df_trig['Income'] == 'mid']['Triglyceride'])\n",
    "trig_weights_mid = np.array(df_trig[df_trig['Income'] == 'mid']['Weight Fast'] /\n",
    "                          df_trig[df_trig['Income'] == 'mid']['Weight Fast'].mean())\n",
    "\n",
    "trig_values_high = np.array(df_trig[df_trig['Income'] == 'high']['Triglyceride'])\n",
    "trig_weights_high = np.array(df_trig[df_trig['Income'] == 'high']['Weight Fast'] / \n",
    "                           df_trig[df_trig['Income'] == 'high']['Weight Fast'].mean())"
   ]
  },
  {
   "cell_type": "code",
   "execution_count": 55,
   "metadata": {},
   "outputs": [
    {
     "data": {
      "text/plain": [
       "(105.39334440455805, 99.62061794069714, 111.16607086841896)"
      ]
     },
     "execution_count": 55,
     "metadata": {},
     "output_type": "execute_result"
    }
   ],
   "source": [
    "weighted_estimate(trig_values_low, trig_weights_low, 0.05)"
   ]
  },
  {
   "cell_type": "code",
   "execution_count": 56,
   "metadata": {},
   "outputs": [
    {
     "data": {
      "text/plain": [
       "(97.86760914226276, 93.92223216332383, 101.8129861212017)"
      ]
     },
     "execution_count": 56,
     "metadata": {},
     "output_type": "execute_result"
    }
   ],
   "source": [
    "weighted_estimate(trig_values_mid, trig_weights_mid, 0.05)"
   ]
  },
  {
   "cell_type": "code",
   "execution_count": 57,
   "metadata": {},
   "outputs": [
    {
     "data": {
      "text/plain": [
       "(99.52404621515471, 94.126219089902, 104.92187334040743)"
      ]
     },
     "execution_count": 57,
     "metadata": {},
     "output_type": "execute_result"
    }
   ],
   "source": [
    "weighted_estimate(trig_values_high, trig_weights_high, 0.05)"
   ]
  },
  {
   "cell_type": "markdown",
   "metadata": {},
   "source": [
    "#### 3.3.3 Ethnicity"
   ]
  },
  {
   "cell_type": "code",
   "execution_count": 58,
   "metadata": {},
   "outputs": [
    {
     "data": {
      "image/png": "[encoded data removed]",
      "text/plain": [
       "<Figure size 720x432 with 2 Axes>"
      ]
     },
     "metadata": {},
     "output_type": "display_data"
    }
   ],
   "source": [
    "f, axes = plt.subplots(2, 1, figsize=(10, 6))\n",
    "sns.boxplot(y='Ethnicity', x='Triglyceride', data=df_trig, palette='coolwarm', ax=axes[0])\n",
    "sns.boxplot(y='Ethnicity', x='Triglyceride', data=df_trig, palette='coolwarm', ax=axes[1], showfliers=False)\n",
    "sns.despine(trim=True, left=True)\n",
    "axes[1].set_title(\"Hiding Outlier\")\n",
    "f.tight_layout()"
   ]
  },
  {
   "cell_type": "code",
   "execution_count": 59,
   "metadata": {},
   "outputs": [
    {
     "data": {
      "text/html": [
       "<div>\n",
       "<style scoped>\n",
       "    .dataframe tbody tr th:only-of-type {\n",
       "        vertical-align: middle;\n",
       "    }\n",
       "\n",
       "    .dataframe tbody tr th {\n",
       "        vertical-align: top;\n",
       "    }\n",
       "\n",
       "    .dataframe thead th {\n",
       "        text-align: right;\n",
       "    }\n",
       "</style>\n",
       "<table border=\"1\" class=\"dataframe\">\n",
       "  <thead>\n",
       "    <tr style=\"text-align: right;\">\n",
       "      <th></th>\n",
       "      <th>count</th>\n",
       "      <th>mean</th>\n",
       "      <th>std</th>\n",
       "      <th>min</th>\n",
       "      <th>25%</th>\n",
       "      <th>50%</th>\n",
       "      <th>75%</th>\n",
       "      <th>max</th>\n",
       "    </tr>\n",
       "    <tr>\n",
       "      <th>Ethnicity</th>\n",
       "      <th></th>\n",
       "      <th></th>\n",
       "      <th></th>\n",
       "      <th></th>\n",
       "      <th></th>\n",
       "      <th></th>\n",
       "      <th></th>\n",
       "      <th></th>\n",
       "    </tr>\n",
       "  </thead>\n",
       "  <tbody>\n",
       "    <tr>\n",
       "      <th>Black</th>\n",
       "      <td>600.0</td>\n",
       "      <td>70.823333</td>\n",
       "      <td>72.170468</td>\n",
       "      <td>0.0</td>\n",
       "      <td>42.00</td>\n",
       "      <td>62.0</td>\n",
       "      <td>88.0</td>\n",
       "      <td>1403.0</td>\n",
       "    </tr>\n",
       "    <tr>\n",
       "      <th>Hispanic</th>\n",
       "      <td>198.0</td>\n",
       "      <td>100.005051</td>\n",
       "      <td>66.897945</td>\n",
       "      <td>0.0</td>\n",
       "      <td>62.00</td>\n",
       "      <td>87.5</td>\n",
       "      <td>124.5</td>\n",
       "      <td>500.0</td>\n",
       "    </tr>\n",
       "    <tr>\n",
       "      <th>Mexican</th>\n",
       "      <td>424.0</td>\n",
       "      <td>110.514151</td>\n",
       "      <td>82.051819</td>\n",
       "      <td>0.0</td>\n",
       "      <td>62.00</td>\n",
       "      <td>91.0</td>\n",
       "      <td>133.0</td>\n",
       "      <td>688.0</td>\n",
       "    </tr>\n",
       "    <tr>\n",
       "      <th>Other</th>\n",
       "      <td>304.0</td>\n",
       "      <td>91.154605</td>\n",
       "      <td>68.028574</td>\n",
       "      <td>0.0</td>\n",
       "      <td>53.75</td>\n",
       "      <td>75.0</td>\n",
       "      <td>112.0</td>\n",
       "      <td>459.0</td>\n",
       "    </tr>\n",
       "    <tr>\n",
       "      <th>White</th>\n",
       "      <td>812.0</td>\n",
       "      <td>99.172414</td>\n",
       "      <td>79.187099</td>\n",
       "      <td>0.0</td>\n",
       "      <td>57.00</td>\n",
       "      <td>84.0</td>\n",
       "      <td>122.0</td>\n",
       "      <td>857.0</td>\n",
       "    </tr>\n",
       "  </tbody>\n",
       "</table>\n",
       "</div>"
      ],
      "text/plain": [
       "           count        mean        std  min    25%   50%    75%     max\n",
       "Ethnicity                                                               \n",
       "Black      600.0   70.823333  72.170468  0.0  42.00  62.0   88.0  1403.0\n",
       "Hispanic   198.0  100.005051  66.897945  0.0  62.00  87.5  124.5   500.0\n",
       "Mexican    424.0  110.514151  82.051819  0.0  62.00  91.0  133.0   688.0\n",
       "Other      304.0   91.154605  68.028574  0.0  53.75  75.0  112.0   459.0\n",
       "White      812.0   99.172414  79.187099  0.0  57.00  84.0  122.0   857.0"
      ]
     },
     "execution_count": 59,
     "metadata": {},
     "output_type": "execute_result"
    }
   ],
   "source": [
    "df_trig.groupby('Ethnicity')['Triglyceride'].describe()"
   ]
  },
  {
   "cell_type": "code",
   "execution_count": 60,
   "metadata": {},
   "outputs": [],
   "source": [
    "trig_values_black = np.array(df_trig[df_trig['Ethnicity'] == 'Black']['Triglyceride'])\n",
    "trig_weights_black = np.array(df_trig[df_trig['Ethnicity'] == 'Black']['Weight Fast'] /\n",
    "                          df_trig[df_trig['Ethnicity'] == 'Black']['Weight Fast'].mean())\n",
    "\n",
    "trig_values_white = np.array(df_trig[df_trig['Ethnicity'] == 'White']['Triglyceride'])\n",
    "trig_weights_white = np.array(df_trig[df_trig['Ethnicity'] == 'White']['Weight Fast'] /\n",
    "                          df_trig[df_trig['Ethnicity'] == 'White']['Weight Fast'].mean())\n",
    "\n",
    "trig_values_mexican = np.array(df_trig[df_trig['Ethnicity'] == 'Mexican']['Triglyceride'])\n",
    "trig_weights_mexican = np.array(df_trig[df_trig['Ethnicity'] == 'Mexican']['Weight Fast'] / \n",
    "                           df_trig[df_trig['Ethnicity'] == 'Mexican']['Weight Fast'].mean())\n",
    "\n",
    "trig_values_hispanic = np.array(df_trig[df_trig['Ethnicity'] == 'Hispanic']['Triglyceride'])\n",
    "trig_weights_hispanic = np.array(df_trig[df_trig['Ethnicity'] == 'Hispanic']['Weight Fast'] / \n",
    "                           df_trig[df_trig['Ethnicity'] == 'Hispanic']['Weight Fast'].mean())\n",
    "\n",
    "trig_values_other = np.array(df_trig[df_trig['Ethnicity'] == 'Other']['Triglyceride'])\n",
    "trig_weights_other = np.array(df_trig[df_trig['Ethnicity'] == 'Other']['Weight Fast'] / \n",
    "                           df_trig[df_trig['Ethnicity'] == 'Other']['Weight Fast'].mean())"
   ]
  },
  {
   "cell_type": "code",
   "execution_count": 61,
   "metadata": {},
   "outputs": [
    {
     "data": {
      "text/plain": [
       "(75.07059328308932, 71.55001903253421, 78.59116753364444)"
      ]
     },
     "execution_count": 61,
     "metadata": {},
     "output_type": "execute_result"
    }
   ],
   "source": [
    "weighted_estimate(trig_values_black, trig_weights_black, 0.05)"
   ]
  },
  {
   "cell_type": "code",
   "execution_count": 62,
   "metadata": {},
   "outputs": [
    {
     "data": {
      "text/plain": [
       "(105.86121933411441, 100.74662523292787, 110.97581343530095)"
      ]
     },
     "execution_count": 62,
     "metadata": {},
     "output_type": "execute_result"
    }
   ],
   "source": [
    "weighted_estimate(trig_values_white, trig_weights_white, 0.05)"
   ]
  },
  {
   "cell_type": "code",
   "execution_count": 63,
   "metadata": {},
   "outputs": [
    {
     "data": {
      "text/plain": [
       "(111.29989261594667, 104.67611322845559, 117.92367200343776)"
      ]
     },
     "execution_count": 63,
     "metadata": {},
     "output_type": "execute_result"
    }
   ],
   "source": [
    "weighted_estimate(trig_values_mexican, trig_weights_mexican, 0.05)"
   ]
  },
  {
   "cell_type": "code",
   "execution_count": 64,
   "metadata": {},
   "outputs": [
    {
     "data": {
      "text/plain": [
       "(104.45806207209937, 95.52479330708967, 113.39133083710907)"
      ]
     },
     "execution_count": 64,
     "metadata": {},
     "output_type": "execute_result"
    }
   ],
   "source": [
    "weighted_estimate(trig_values_hispanic, trig_weights_hispanic, 0.05)"
   ]
  },
  {
   "cell_type": "code",
   "execution_count": 65,
   "metadata": {},
   "outputs": [
    {
     "data": {
      "text/plain": [
       "(88.57341958647942, 82.58431425635916, 94.56252491659967)"
      ]
     },
     "execution_count": 65,
     "metadata": {},
     "output_type": "execute_result"
    }
   ],
   "source": [
    "weighted_estimate(trig_values_other, trig_weights_other, 0.05)"
   ]
  },
  {
   "cell_type": "markdown",
   "metadata": {},
   "source": [
    "### Total Cholesterol Analysis"
   ]
  },
  {
   "cell_type": "code",
   "execution_count": 66,
   "metadata": {
    "scrolled": true
   },
   "outputs": [
    {
     "data": {
      "text/html": [
       "<div>\n",
       "<style scoped>\n",
       "    .dataframe tbody tr th:only-of-type {\n",
       "        vertical-align: middle;\n",
       "    }\n",
       "\n",
       "    .dataframe tbody tr th {\n",
       "        vertical-align: top;\n",
       "    }\n",
       "\n",
       "    .dataframe thead th {\n",
       "        text-align: right;\n",
       "    }\n",
       "</style>\n",
       "<table border=\"1\" class=\"dataframe\">\n",
       "  <thead>\n",
       "    <tr style=\"text-align: right;\">\n",
       "      <th></th>\n",
       "      <th>Age</th>\n",
       "      <th>Gender</th>\n",
       "      <th>Ethnicity</th>\n",
       "      <th>Income</th>\n",
       "      <th>Total Chol</th>\n",
       "      <th>Weight MEC</th>\n",
       "    </tr>\n",
       "    <tr>\n",
       "      <th>Index</th>\n",
       "      <th></th>\n",
       "      <th></th>\n",
       "      <th></th>\n",
       "      <th></th>\n",
       "      <th></th>\n",
       "      <th></th>\n",
       "    </tr>\n",
       "  </thead>\n",
       "  <tbody>\n",
       "    <tr>\n",
       "      <th>21097.0</th>\n",
       "      <td>23.0</td>\n",
       "      <td>Female</td>\n",
       "      <td>Black</td>\n",
       "      <td>mid</td>\n",
       "      <td>165.0</td>\n",
       "      <td>0.775859</td>\n",
       "    </tr>\n",
       "    <tr>\n",
       "      <th>21107.0</th>\n",
       "      <td>20.0</td>\n",
       "      <td>Male</td>\n",
       "      <td>White</td>\n",
       "      <td>mid</td>\n",
       "      <td>152.0</td>\n",
       "      <td>1.860274</td>\n",
       "    </tr>\n",
       "    <tr>\n",
       "      <th>21130.0</th>\n",
       "      <td>20.0</td>\n",
       "      <td>Female</td>\n",
       "      <td>Black</td>\n",
       "      <td>high</td>\n",
       "      <td>191.0</td>\n",
       "      <td>0.806247</td>\n",
       "    </tr>\n",
       "    <tr>\n",
       "      <th>21171.0</th>\n",
       "      <td>20.0</td>\n",
       "      <td>Female</td>\n",
       "      <td>Black</td>\n",
       "      <td>low</td>\n",
       "      <td>171.0</td>\n",
       "      <td>0.894561</td>\n",
       "    </tr>\n",
       "    <tr>\n",
       "      <th>21175.0</th>\n",
       "      <td>18.0</td>\n",
       "      <td>Female</td>\n",
       "      <td>Black</td>\n",
       "      <td>low</td>\n",
       "      <td>146.0</td>\n",
       "      <td>0.184017</td>\n",
       "    </tr>\n",
       "  </tbody>\n",
       "</table>\n",
       "</div>"
      ],
      "text/plain": [
       "          Age  Gender Ethnicity Income  Total Chol  Weight MEC\n",
       "Index                                                         \n",
       "21097.0  23.0  Female     Black    mid       165.0    0.775859\n",
       "21107.0  20.0    Male     White    mid       152.0    1.860274\n",
       "21130.0  20.0  Female     Black   high       191.0    0.806247\n",
       "21171.0  20.0  Female     Black    low       171.0    0.894561\n",
       "21175.0  18.0  Female     Black    low       146.0    0.184017"
      ]
     },
     "execution_count": 66,
     "metadata": {},
     "output_type": "execute_result"
    }
   ],
   "source": [
    "df_tchol.head()"
   ]
  },
  {
   "cell_type": "code",
   "execution_count": 67,
   "metadata": {},
   "outputs": [
    {
     "data": {
      "text/plain": [
       "4370"
      ]
     },
     "execution_count": 67,
     "metadata": {},
     "output_type": "execute_result"
    }
   ],
   "source": [
    "df_tchol['Total Chol'].count()"
   ]
  },
  {
   "cell_type": "markdown",
   "metadata": {},
   "source": [
    "#### 3.3.1 Gender"
   ]
  },
  {
   "cell_type": "code",
   "execution_count": 68,
   "metadata": {
    "scrolled": true
   },
   "outputs": [
    {
     "data": {
      "image/png": "[encoded data removed]",
      "text/plain": [
       "<Figure size 720x144 with 1 Axes>"
      ]
     },
     "metadata": {},
     "output_type": "display_data"
    }
   ],
   "source": [
    "f, ax = plt.subplots(figsize=(10, 2))\n",
    "sns.boxplot(y='Gender', x='Total Chol', data=df_tchol, palette='coolwarm')\n",
    "sns.despine(trim=True, left=True)"
   ]
  },
  {
   "cell_type": "code",
   "execution_count": 69,
   "metadata": {},
   "outputs": [
    {
     "data": {
      "text/html": [
       "<div>\n",
       "<style scoped>\n",
       "    .dataframe tbody tr th:only-of-type {\n",
       "        vertical-align: middle;\n",
       "    }\n",
       "\n",
       "    .dataframe tbody tr th {\n",
       "        vertical-align: top;\n",
       "    }\n",
       "\n",
       "    .dataframe thead th {\n",
       "        text-align: right;\n",
       "    }\n",
       "</style>\n",
       "<table border=\"1\" class=\"dataframe\">\n",
       "  <thead>\n",
       "    <tr style=\"text-align: right;\">\n",
       "      <th></th>\n",
       "      <th>count</th>\n",
       "      <th>mean</th>\n",
       "      <th>std</th>\n",
       "      <th>min</th>\n",
       "      <th>25%</th>\n",
       "      <th>50%</th>\n",
       "      <th>75%</th>\n",
       "      <th>max</th>\n",
       "    </tr>\n",
       "    <tr>\n",
       "      <th>Gender</th>\n",
       "      <th></th>\n",
       "      <th></th>\n",
       "      <th></th>\n",
       "      <th></th>\n",
       "      <th></th>\n",
       "      <th></th>\n",
       "      <th></th>\n",
       "      <th></th>\n",
       "    </tr>\n",
       "  </thead>\n",
       "  <tbody>\n",
       "    <tr>\n",
       "      <th>Female</th>\n",
       "      <td>2304.0</td>\n",
       "      <td>174.276422</td>\n",
       "      <td>34.814598</td>\n",
       "      <td>82.0</td>\n",
       "      <td>152.0</td>\n",
       "      <td>170.916515</td>\n",
       "      <td>190.0</td>\n",
       "      <td>350.0</td>\n",
       "    </tr>\n",
       "    <tr>\n",
       "      <th>Male</th>\n",
       "      <td>2066.0</td>\n",
       "      <td>167.169553</td>\n",
       "      <td>30.496788</td>\n",
       "      <td>77.0</td>\n",
       "      <td>147.0</td>\n",
       "      <td>169.000000</td>\n",
       "      <td>183.0</td>\n",
       "      <td>320.0</td>\n",
       "    </tr>\n",
       "  </tbody>\n",
       "</table>\n",
       "</div>"
      ],
      "text/plain": [
       "         count        mean        std   min    25%         50%    75%    max\n",
       "Gender                                                                      \n",
       "Female  2304.0  174.276422  34.814598  82.0  152.0  170.916515  190.0  350.0\n",
       "Male    2066.0  167.169553  30.496788  77.0  147.0  169.000000  183.0  320.0"
      ]
     },
     "execution_count": 69,
     "metadata": {},
     "output_type": "execute_result"
    }
   ],
   "source": [
    "df_tchol.groupby('Gender')['Total Chol'].describe()"
   ]
  },
  {
   "cell_type": "code",
   "execution_count": 70,
   "metadata": {},
   "outputs": [],
   "source": [
    "tchol_values_male = np.array(df_tchol[df_tchol['Gender'] == 'Male']['Total Chol'])\n",
    "tchol_weights_male = np.array(df_tchol[df_tchol['Gender'] == 'Male']['Weight MEC'] /\n",
    "                           df_tchol[df_tchol['Gender'] == 'Male']['Weight MEC'].mean())\n",
    "\n",
    "tchol_values_female = np.array(df_tchol[df_tchol['Gender'] == 'Female']['Total Chol'])\n",
    "tchol_weights_female = np.array(df_tchol[df_tchol['Gender'] == 'Female']['Weight MEC'] /\n",
    "                             df_tchol[df_tchol['Gender'] == 'Female']['Weight MEC'].mean())"
   ]
  },
  {
   "cell_type": "code",
   "execution_count": 71,
   "metadata": {},
   "outputs": [
    {
     "data": {
      "text/plain": [
       "(174.49210547907865, 173.07329414882048, 175.9109168093368)"
      ]
     },
     "execution_count": 71,
     "metadata": {},
     "output_type": "execute_result"
    }
   ],
   "source": [
    "weighted_estimate(tchol_values_female, tchol_weights_female, 0.05)"
   ]
  },
  {
   "cell_type": "code",
   "execution_count": 72,
   "metadata": {
    "scrolled": false
   },
   "outputs": [
    {
     "data": {
      "text/plain": [
       "(168.79403465076132, 167.44352335895744, 170.1445459425652)"
      ]
     },
     "execution_count": 72,
     "metadata": {},
     "output_type": "execute_result"
    }
   ],
   "source": [
    "weighted_estimate(tchol_values_male, tchol_weights_male, 0.05)"
   ]
  },
  {
   "cell_type": "markdown",
   "metadata": {},
   "source": [
    "#### 3.3.2 Income"
   ]
  },
  {
   "cell_type": "code",
   "execution_count": 73,
   "metadata": {},
   "outputs": [
    {
     "data": {
      "image/png": "[encoded data removed]",
      "text/plain": [
       "<Figure size 720x144 with 1 Axes>"
      ]
     },
     "metadata": {},
     "output_type": "display_data"
    }
   ],
   "source": [
    "f, ax = plt.subplots(figsize=(10, 2))\n",
    "sns.boxplot(y='Income', x='Total Chol', data=df_tchol, palette='coolwarm')\n",
    "sns.despine(trim=True, left=True)"
   ]
  },
  {
   "cell_type": "code",
   "execution_count": 74,
   "metadata": {},
   "outputs": [
    {
     "data": {
      "text/html": [
       "<div>\n",
       "<style scoped>\n",
       "    .dataframe tbody tr th:only-of-type {\n",
       "        vertical-align: middle;\n",
       "    }\n",
       "\n",
       "    .dataframe tbody tr th {\n",
       "        vertical-align: top;\n",
       "    }\n",
       "\n",
       "    .dataframe thead th {\n",
       "        text-align: right;\n",
       "    }\n",
       "</style>\n",
       "<table border=\"1\" class=\"dataframe\">\n",
       "  <thead>\n",
       "    <tr style=\"text-align: right;\">\n",
       "      <th></th>\n",
       "      <th>count</th>\n",
       "      <th>mean</th>\n",
       "      <th>std</th>\n",
       "      <th>min</th>\n",
       "      <th>25%</th>\n",
       "      <th>50%</th>\n",
       "      <th>75%</th>\n",
       "      <th>max</th>\n",
       "    </tr>\n",
       "    <tr>\n",
       "      <th>Income</th>\n",
       "      <th></th>\n",
       "      <th></th>\n",
       "      <th></th>\n",
       "      <th></th>\n",
       "      <th></th>\n",
       "      <th></th>\n",
       "      <th></th>\n",
       "      <th></th>\n",
       "    </tr>\n",
       "  </thead>\n",
       "  <tbody>\n",
       "    <tr>\n",
       "      <th>high</th>\n",
       "      <td>745.0</td>\n",
       "      <td>170.657141</td>\n",
       "      <td>31.916580</td>\n",
       "      <td>91.0</td>\n",
       "      <td>149.0</td>\n",
       "      <td>170.916515</td>\n",
       "      <td>184.0</td>\n",
       "      <td>303.0</td>\n",
       "    </tr>\n",
       "    <tr>\n",
       "      <th>low</th>\n",
       "      <td>1521.0</td>\n",
       "      <td>170.560688</td>\n",
       "      <td>32.710198</td>\n",
       "      <td>77.0</td>\n",
       "      <td>150.0</td>\n",
       "      <td>170.916515</td>\n",
       "      <td>186.0</td>\n",
       "      <td>350.0</td>\n",
       "    </tr>\n",
       "    <tr>\n",
       "      <th>mid</th>\n",
       "      <td>1902.0</td>\n",
       "      <td>171.551816</td>\n",
       "      <td>34.052889</td>\n",
       "      <td>80.0</td>\n",
       "      <td>149.0</td>\n",
       "      <td>170.916515</td>\n",
       "      <td>188.0</td>\n",
       "      <td>340.0</td>\n",
       "    </tr>\n",
       "  </tbody>\n",
       "</table>\n",
       "</div>"
      ],
      "text/plain": [
       "         count        mean        std   min    25%         50%    75%    max\n",
       "Income                                                                      \n",
       "high     745.0  170.657141  31.916580  91.0  149.0  170.916515  184.0  303.0\n",
       "low     1521.0  170.560688  32.710198  77.0  150.0  170.916515  186.0  350.0\n",
       "mid     1902.0  171.551816  34.052889  80.0  149.0  170.916515  188.0  340.0"
      ]
     },
     "execution_count": 74,
     "metadata": {},
     "output_type": "execute_result"
    }
   ],
   "source": [
    "df_tchol.groupby('Income')['Total Chol'].describe()"
   ]
  },
  {
   "cell_type": "code",
   "execution_count": 75,
   "metadata": {},
   "outputs": [],
   "source": [
    "tchol_values_low = np.array(df_tchol[df_tchol['Income'] == 'low']['Total Chol'])\n",
    "tchol_weights_low = np.array(df_tchol[df_tchol['Income'] == 'low']['Weight MEC'] /\n",
    "                          df_tchol[df_tchol['Income'] == 'low']['Weight MEC'].mean())\n",
    "\n",
    "tchol_values_mid = np.array(df_tchol[df_tchol['Income'] == 'mid']['Total Chol'])\n",
    "tchol_weights_mid = np.array(df_tchol[df_tchol['Income'] == 'mid']['Weight MEC'] /\n",
    "                          df_tchol[df_tchol['Income'] == 'mid']['Weight MEC'].mean())\n",
    "\n",
    "tchol_values_high = np.array(df_tchol[df_tchol['Income'] == 'high']['Total Chol'])\n",
    "tchol_weights_high = np.array(df_tchol[df_tchol['Income'] == 'high']['Weight MEC'] / \n",
    "                           df_tchol[df_tchol['Income'] == 'high']['Weight MEC'].mean())"
   ]
  },
  {
   "cell_type": "code",
   "execution_count": 76,
   "metadata": {},
   "outputs": [
    {
     "data": {
      "text/plain": [
       "(171.23113467737096, 169.57906516251504, 172.88320419222688)"
      ]
     },
     "execution_count": 76,
     "metadata": {},
     "output_type": "execute_result"
    }
   ],
   "source": [
    "weighted_estimate(tchol_values_low, tchol_weights_low, 0.05)"
   ]
  },
  {
   "cell_type": "code",
   "execution_count": 77,
   "metadata": {},
   "outputs": [
    {
     "data": {
      "text/plain": [
       "(172.04877771718307, 170.52165305052532, 173.57590238384083)"
      ]
     },
     "execution_count": 77,
     "metadata": {},
     "output_type": "execute_result"
    }
   ],
   "source": [
    "weighted_estimate(tchol_values_mid, tchol_weights_mid, 0.05)"
   ]
  },
  {
   "cell_type": "code",
   "execution_count": 78,
   "metadata": {},
   "outputs": [
    {
     "data": {
      "text/plain": [
       "(171.64714382381223, 169.3226212533826, 173.97166639424185)"
      ]
     },
     "execution_count": 78,
     "metadata": {},
     "output_type": "execute_result"
    }
   ],
   "source": [
    "weighted_estimate(tchol_values_high, tchol_weights_high, 0.05)"
   ]
  },
  {
   "cell_type": "markdown",
   "metadata": {},
   "source": [
    "#### 3.3.3 Ethnicity"
   ]
  },
  {
   "cell_type": "code",
   "execution_count": 79,
   "metadata": {
    "scrolled": true
   },
   "outputs": [
    {
     "data": {
      "image/png": "[encoded data removed]",
      "text/plain": [
       "<Figure size 720x216 with 1 Axes>"
      ]
     },
     "metadata": {},
     "output_type": "display_data"
    }
   ],
   "source": [
    "f, ax = plt.subplots(figsize=(10, 3))\n",
    "sns.boxplot(y='Ethnicity', x='Total Chol', data=df_tchol, palette='coolwarm')\n",
    "sns.despine(trim=True, left=True)"
   ]
  },
  {
   "cell_type": "code",
   "execution_count": 80,
   "metadata": {
    "scrolled": true
   },
   "outputs": [
    {
     "data": {
      "text/html": [
       "<div>\n",
       "<style scoped>\n",
       "    .dataframe tbody tr th:only-of-type {\n",
       "        vertical-align: middle;\n",
       "    }\n",
       "\n",
       "    .dataframe tbody tr th {\n",
       "        vertical-align: top;\n",
       "    }\n",
       "\n",
       "    .dataframe thead th {\n",
       "        text-align: right;\n",
       "    }\n",
       "</style>\n",
       "<table border=\"1\" class=\"dataframe\">\n",
       "  <thead>\n",
       "    <tr style=\"text-align: right;\">\n",
       "      <th></th>\n",
       "      <th>count</th>\n",
       "      <th>mean</th>\n",
       "      <th>std</th>\n",
       "      <th>min</th>\n",
       "      <th>25%</th>\n",
       "      <th>50%</th>\n",
       "      <th>75%</th>\n",
       "      <th>max</th>\n",
       "    </tr>\n",
       "    <tr>\n",
       "      <th>Ethnicity</th>\n",
       "      <th></th>\n",
       "      <th></th>\n",
       "      <th></th>\n",
       "      <th></th>\n",
       "      <th></th>\n",
       "      <th></th>\n",
       "      <th></th>\n",
       "      <th></th>\n",
       "    </tr>\n",
       "  </thead>\n",
       "  <tbody>\n",
       "    <tr>\n",
       "      <th>Black</th>\n",
       "      <td>1137.0</td>\n",
       "      <td>168.453076</td>\n",
       "      <td>30.636016</td>\n",
       "      <td>80.0</td>\n",
       "      <td>149.0</td>\n",
       "      <td>170.000000</td>\n",
       "      <td>183.0</td>\n",
       "      <td>281.0</td>\n",
       "    </tr>\n",
       "    <tr>\n",
       "      <th>Hispanic</th>\n",
       "      <td>333.0</td>\n",
       "      <td>167.029763</td>\n",
       "      <td>30.427093</td>\n",
       "      <td>101.0</td>\n",
       "      <td>146.0</td>\n",
       "      <td>169.000000</td>\n",
       "      <td>182.0</td>\n",
       "      <td>290.0</td>\n",
       "    </tr>\n",
       "    <tr>\n",
       "      <th>Mexican</th>\n",
       "      <td>771.0</td>\n",
       "      <td>171.519657</td>\n",
       "      <td>34.134899</td>\n",
       "      <td>77.0</td>\n",
       "      <td>150.0</td>\n",
       "      <td>170.916515</td>\n",
       "      <td>188.0</td>\n",
       "      <td>329.0</td>\n",
       "    </tr>\n",
       "    <tr>\n",
       "      <th>Other</th>\n",
       "      <td>519.0</td>\n",
       "      <td>171.243880</td>\n",
       "      <td>31.024265</td>\n",
       "      <td>91.0</td>\n",
       "      <td>152.0</td>\n",
       "      <td>170.916515</td>\n",
       "      <td>185.0</td>\n",
       "      <td>305.0</td>\n",
       "    </tr>\n",
       "    <tr>\n",
       "      <th>White</th>\n",
       "      <td>1610.0</td>\n",
       "      <td>173.065767</td>\n",
       "      <td>35.060863</td>\n",
       "      <td>82.0</td>\n",
       "      <td>151.0</td>\n",
       "      <td>170.916515</td>\n",
       "      <td>189.0</td>\n",
       "      <td>350.0</td>\n",
       "    </tr>\n",
       "  </tbody>\n",
       "</table>\n",
       "</div>"
      ],
      "text/plain": [
       "            count        mean        std    min    25%         50%    75%  \\\n",
       "Ethnicity                                                                   \n",
       "Black      1137.0  168.453076  30.636016   80.0  149.0  170.000000  183.0   \n",
       "Hispanic    333.0  167.029763  30.427093  101.0  146.0  169.000000  182.0   \n",
       "Mexican     771.0  171.519657  34.134899   77.0  150.0  170.916515  188.0   \n",
       "Other       519.0  171.243880  31.024265   91.0  152.0  170.916515  185.0   \n",
       "White      1610.0  173.065767  35.060863   82.0  151.0  170.916515  189.0   \n",
       "\n",
       "             max  \n",
       "Ethnicity         \n",
       "Black      281.0  \n",
       "Hispanic   290.0  \n",
       "Mexican    329.0  \n",
       "Other      305.0  \n",
       "White      350.0  "
      ]
     },
     "execution_count": 80,
     "metadata": {},
     "output_type": "execute_result"
    }
   ],
   "source": [
    "df_tchol.groupby('Ethnicity')['Total Chol'].describe()"
   ]
  },
  {
   "cell_type": "code",
   "execution_count": 81,
   "metadata": {},
   "outputs": [],
   "source": [
    "tchol_values_black = np.array(df_tchol[df_tchol['Ethnicity'] == 'Black']['Total Chol'])\n",
    "tchol_weights_black = np.array(df_tchol[df_tchol['Ethnicity'] == 'Black']['Weight MEC'] /\n",
    "                          df_tchol[df_tchol['Ethnicity'] == 'Black']['Weight MEC'].mean())\n",
    "\n",
    "tchol_values_white = np.array(df_tchol[df_tchol['Ethnicity'] == 'White']['Total Chol'])\n",
    "tchol_weights_white = np.array(df_tchol[df_tchol['Ethnicity'] == 'White']['Weight MEC'] /\n",
    "                          df_tchol[df_tchol['Ethnicity'] == 'White']['Weight MEC'].mean())\n",
    "\n",
    "tchol_values_mexican = np.array(df_tchol[df_tchol['Ethnicity'] == 'Mexican']['Total Chol'])\n",
    "tchol_weights_mexican = np.array(df_tchol[df_tchol['Ethnicity'] == 'Mexican']['Weight MEC'] / \n",
    "                           df_tchol[df_tchol['Ethnicity'] == 'Mexican']['Weight MEC'].mean())\n",
    "\n",
    "tchol_values_hispanic = np.array(df_tchol[df_tchol['Ethnicity'] == 'Hispanic']['Total Chol'])\n",
    "tchol_weights_hispanic = np.array(df_tchol[df_tchol['Ethnicity'] == 'Hispanic']['Weight MEC'] / \n",
    "                           df_tchol[df_tchol['Ethnicity'] == 'Hispanic']['Weight MEC'].mean())\n",
    "\n",
    "tchol_values_other = np.array(df_tchol[df_tchol['Ethnicity'] == 'Other']['Total Chol'])\n",
    "tchol_weights_other = np.array(df_tchol[df_tchol['Ethnicity'] == 'Other']['Weight MEC'] / \n",
    "                           df_tchol[df_tchol['Ethnicity'] == 'Other']['Weight MEC'].mean())"
   ]
  },
  {
   "cell_type": "code",
   "execution_count": 82,
   "metadata": {},
   "outputs": [
    {
     "data": {
      "text/plain": [
       "(168.79054389349733, 166.99352315362904, 170.58756463336562)"
      ]
     },
     "execution_count": 82,
     "metadata": {},
     "output_type": "execute_result"
    }
   ],
   "source": [
    "weighted_estimate(tchol_values_black, tchol_weights_black, 0.05)"
   ]
  },
  {
   "cell_type": "code",
   "execution_count": 83,
   "metadata": {},
   "outputs": [
    {
     "data": {
      "text/plain": [
       "(172.72829722569105, 171.07199210088245, 174.38460235049965)"
      ]
     },
     "execution_count": 83,
     "metadata": {},
     "output_type": "execute_result"
    }
   ],
   "source": [
    "weighted_estimate(tchol_values_white, tchol_weights_white, 0.05)"
   ]
  },
  {
   "cell_type": "code",
   "execution_count": 84,
   "metadata": {},
   "outputs": [
    {
     "data": {
      "text/plain": [
       "(170.35639821328928, 168.08613341910083, 172.62666300747773)"
      ]
     },
     "execution_count": 84,
     "metadata": {},
     "output_type": "execute_result"
    }
   ],
   "source": [
    "weighted_estimate(tchol_values_mexican, tchol_weights_mexican, 0.05)"
   ]
  },
  {
   "cell_type": "code",
   "execution_count": 85,
   "metadata": {},
   "outputs": [
    {
     "data": {
      "text/plain": [
       "(167.85462846789065, 164.3232148624996, 171.3860420732817)"
      ]
     },
     "execution_count": 85,
     "metadata": {},
     "output_type": "execute_result"
    }
   ],
   "source": [
    "weighted_estimate(tchol_values_hispanic, tchol_weights_hispanic, 0.05)"
   ]
  },
  {
   "cell_type": "code",
   "execution_count": 86,
   "metadata": {
    "scrolled": true
   },
   "outputs": [
    {
     "data": {
      "text/plain": [
       "(172.7579045095308, 169.9165864098209, 175.59922260924068)"
      ]
     },
     "execution_count": 86,
     "metadata": {},
     "output_type": "execute_result"
    }
   ],
   "source": [
    "weighted_estimate(tchol_values_other, tchol_weights_other, 0.05)"
   ]
  },
  {
   "cell_type": "markdown",
   "metadata": {},
   "source": [
    "## 3 Results"
   ]
  },
  {
   "cell_type": "markdown",
   "metadata": {},
   "source": [
    "The results can be summarized into the following table:\n",
    "<table align=\"left\">\n",
    "    <caption><EM>Average 2003-2016 NHANES Lipid Values by Race, Gender, and Income</EM></caption>\n",
    "    <tr align=\"left\">\n",
    "        <th> </th>\n",
    "        <th> N: 4370</th>\n",
    "        <th colspan=\"2\">Total Cholesterol</th>\n",
    "        <th colspan=\"2\">HDL</th>\n",
    "        <th> N: 2221</th>\n",
    "        <th colspan=\"2\">Triglyceride</th>\n",
    "    </tr>  \n",
    "    <tr>\n",
    "        <th>Race</th><td></td><td></td><td></td><td></td>\n",
    "    </tr>\n",
    "    <tr>\n",
    "        <td>Caucasian</td>\n",
    "        <td>1610</td>\n",
    "        <td>172.7</td> \n",
    "        <td>(171.1, 174.4)</td>\n",
    "        <td>47.0</td>\n",
    "        <td>(46.0, 48.0)</td>\n",
    "        <td>781</td>\n",
    "        <td>106.3</td>\n",
    "        <td>(101.0, 111.5)</td>\n",
    "    </tr>\n",
    "    <tr>\n",
    "        <td>African-American</td>\n",
    "        <td>1137</td>\n",
    "        <td>168.8</td>\n",
    "        <td>(167.0, 170.6)</td>\n",
    "        <td>50.6</td>\n",
    "        <td>(49.3, 51.8)</td>\n",
    "        <td>575</td>\n",
    "        <td><b>75.3<b></td>\n",
    "        <td><b>(71.7, 79.0)<b></td>\n",
    "    </tr>\n",
    "    <tr>\n",
    "        <td>Mexican</td>\n",
    "        <td>771</td>\n",
    "        <td>170.4</td>\n",
    "        <td>(168.1, 172.6)</td>\n",
    "        <td>48.1</td>\n",
    "        <td>(46.8, 49.4)</td>\n",
    "        <td>400</td>\n",
    "        <td>110.6</td>\n",
    "        <td>(103.7, 117.4)</td>\n",
    "    </tr>\n",
    "    <tr>\n",
    "        <td>Hispanic</td>\n",
    "        <td>333</td>\n",
    "        <td>167.9</td>\n",
    "        <td>(164.3, 171.4)</td>\n",
    "        <td>48.1</td>\n",
    "        <td>(46.2, 50.0)</td>\n",
    "        <td>181</td>\n",
    "        <td>104.0</td>\n",
    "        <td>(94.8, 113.1)</td>\n",
    "    </tr>\n",
    "    <tr>\n",
    "        <td>Other</td>\n",
    "        <td>519</td>\n",
    "        <td>172.8</td>\n",
    "        <td>(169.9, 175.6)</td>\n",
    "        <td>50.0</td>\n",
    "        <td>(48.3, 51.6)</td>\n",
    "        <td>284</td>\n",
    "        <td>90.2</td>\n",
    "        <td>(84.0, 96.5)</td>\n",
    "    </tr>\n",
    "    <tr>\n",
    "        <th>Income</th><td></td><td></td><td></td><td></td>\n",
    "    </tr>\n",
    "    <tr>\n",
    "        <td>High</td>\n",
    "        <td>745</td>\n",
    "        <td>171.6</td>\n",
    "        <td>(169.3, 174.0)</td>\n",
    "        <td>47.0</td>\n",
    "        <td>(45.6, 48.5)</td>\n",
    "        <td>408</td>\n",
    "        <td>99.5</td>\n",
    "        <td>(94.1, 104.9)</td>\n",
    "    </tr>\n",
    "    <tr>\n",
    "        <td>Mid</td>\n",
    "        <td>1521</td>\n",
    "        <td>172.0</td>\n",
    "        <td>(170.5, 173.6)</td>\n",
    "        <td>48.1</td>\n",
    "        <td>(47.2, 49.0)</td>\n",
    "        <td>792</td>\n",
    "        <td>97.9</td>\n",
    "        <td>(93.9, 101.8)</td>\n",
    "    </tr>\n",
    "    <tr>\n",
    "        <td>Low</td>\n",
    "        <td>1902</td>\n",
    "        <td>171.2</td>\n",
    "        <td>(169.6, 172.9)</td>\n",
    "        <td>48.3</td>\n",
    "        <td>(47.3, 49.3)</td>\n",
    "        <td>1021</td>\n",
    "        <td>105.4</td>\n",
    "        <td>(99.6, 111.2)</td>\n",
    "    </tr>\n",
    "    <tr>\n",
    "        <th>Gender</th><td></td><td></td><td></td><td></td>\n",
    "    </tr>\n",
    "    <tr>\n",
    "        <td>Female</td>\n",
    "        <td>2304</td>\n",
    "        <td><b>174.5<b></td>\n",
    "        <td><b>(173.1, 175.9)<b></td>\n",
    "        <td><b>51.6<b></td>\n",
    "        <td><b>(50.8, 52.5)<b></td>\n",
    "        <td>1187</td>\n",
    "        <td><b>93.8<b></td>\n",
    "        <td><b>(90.2, 97.5)<b></td>\n",
    "    </tr>\n",
    "    <tr>\n",
    "        <td>Male</td>\n",
    "        <td>2066</td>\n",
    "        <td>168.8</td>\n",
    "        <td>(167.4, 170.1)</td>\n",
    "        <td>44.1</td>\n",
    "        <td>(43.3, 44.9)</td>\n",
    "        <td>1034</td>\n",
    "        <td>107.4</td>\n",
    "        <td>(103.0, 111.9)</td>\n",
    "    </tr>\n",
    "<table/>"
   ]
  },
  {
   "cell_type": "markdown",
   "metadata": {},
   "source": [
    "### Conclusion\n",
    "\n",
    "Overall,  we find that there is no significant differene in total cholesterol and HDL choleteral in terms of race and socioecnomic status.  However, African-Americans have significantly lower triglyceride levels.  Gender is a significant factor in all types of cholesterol levels. "
   ]
  }
 ],
 "metadata": {
  "kernelspec": {
   "display_name": "Python 3",
   "language": "python",
   "name": "python3"
  },
  "language_info": {
   "codemirror_mode": {
    "name": "ipython",
    "version": 3
   },
   "file_extension": ".py",
   "mimetype": "text/x-python",
   "name": "python",
   "nbconvert_exporter": "python",
   "pygments_lexer": "ipython3",
   "version": "3.6.5"
  }
 },
 "nbformat": 4,
 "nbformat_minor": 2
}
